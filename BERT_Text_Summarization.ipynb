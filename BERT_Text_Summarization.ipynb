{
  "nbformat": 4,
  "nbformat_minor": 0,
  "metadata": {
    "colab": {
      "name": "BERT - Text Summarization",
      "provenance": [],
      "authorship_tag": "ABX9TyNePgvy0/kUk2iF6vGfzyYS",
      "include_colab_link": true
    },
    "kernelspec": {
      "name": "python3",
      "display_name": "Python 3"
    },
    "accelerator": "GPU"
  },
  "cells": [
    {
      "cell_type": "markdown",
      "metadata": {
        "id": "view-in-github",
        "colab_type": "text"
      },
      "source": [
        "<a href=\"https://colab.research.google.com/github/KevinLolochum/BERT-MODELS/blob/main/BERT_Text_Summarization.ipynb\" target=\"_parent\"><img src=\"https://colab.research.google.com/assets/colab-badge.svg\" alt=\"Open In Colab\"/></a>"
      ]
    },
    {
      "cell_type": "markdown",
      "metadata": {
        "id": "TFyTSELaeUs6"
      },
      "source": [
        "**PyTorch Solution**"
      ]
    },
    {
      "cell_type": "markdown",
      "metadata": {
        "id": "y9H3vQ6BfuLr"
      },
      "source": [
        "***1. Installing text summarizer, neuralcoref and spacy.***\n",
        "\n",
        "\n",
        "* Spacy models enable corefencing explained [here](https://spacy.io/universe/project/neuralcoref). \n",
        "* Coreferencing is the ability of models to predict the antecedent that is being refered to later in the sentence/paragraph through ranking. \n",
        "* I will not use coferencing for this model but it is good to know and might use in future models.\n",
        "\n"
      ]
    },
    {
      "cell_type": "code",
      "metadata": {
        "id": "PDoRuSwsg_S1"
      },
      "source": [
        "! pip install bert-extractive-summarizer\n",
        "! pip install neuralcoref\n",
        "! pip install spacy==2.2.2"
      ],
      "execution_count": null,
      "outputs": []
    },
    {
      "cell_type": "code",
      "metadata": {
        "id": "v8m7b0nGgbY1"
      },
      "source": [
        "# Libraries\n",
        "\n",
        "import spacy\n",
        "import numpy as np\n",
        "import pandas as pd\n",
        "import torch\n",
        "from transformers import AutoConfig, AutoModel, AutoTokenizer, AutoConfig\n",
        "from summarizer import Summarizer\n",
        "from summarizer.coreference_handler import CoreferenceHandler\n",
        "\n",
        "import en_core_web_sm\n"
      ],
      "execution_count": 38,
      "outputs": []
    },
    {
      "cell_type": "markdown",
      "metadata": {
        "id": "yAg6Iy4Ljku1"
      },
      "source": [
        "***2. Instantiating the Model***\n",
        "\n"
      ]
    },
    {
      "cell_type": "code",
      "metadata": {
        "id": "tB3-AzSwekFn"
      },
      "source": [
        "# Initiating model and tokenizer\n",
        "\n",
        "Config = AutoConfig.from_pretrained('bert-base-cased')\n",
        "Config.output_hidden_states = True\n",
        "MAIN_MODEL = AutoModel.from_pretrained('bert-base-cased', config = Config)\n",
        "TOKENIZER = AutoTokenizer.from_pretrained('bert-base-cased')\n",
        "\n",
        "# Model\n",
        "\n",
        "model = Summarizer(custom_model= MAIN_MODEL, custom_tokenizer= TOKENIZER)"
      ],
      "execution_count": null,
      "outputs": []
    },
    {
      "cell_type": "markdown",
      "metadata": {
        "id": "j6X7HEPif6ko"
      },
      "source": [
        "***3. Loading COVID19 News Data from the Web and Cleaning***\n",
        "\n",
        "* Cleanig data is pretty simple because the model only requires a corpus and it will do all the rest on it's own.\n",
        "* I will use Beautifulsoup and requests to create a corpus to parse to the model.\n",
        "\n"
      ]
    },
    {
      "cell_type": "code",
      "metadata": {
        "id": "_BrLaGcxKzeO",
        "outputId": "181bb60c-b540-4a7d-c813-7a6a4f77979f",
        "colab": {
          "base_uri": "https://localhost:8080/",
          "height": 124
        }
      },
      "source": [
        "from bs4 import BeautifulSoup\n",
        "from bs4.element import Comment\n",
        "from urllib.request import urlopen\n",
        "\n",
        "# Data\n",
        "URL = \"https://www.cbc.ca/news/canada/toronto/demand-covid-19-treatment-ontario-1.5816276\"\n",
        "\n",
        "\n",
        "def visible_tags(element):\n",
        "  ''' Function to return soup data under this tags'''\n",
        "\n",
        "  if element.parent.name in ['style', 'script','head', 'title', 'meta', '[document]']:\n",
        "        return False\n",
        "  if isinstance(element, Comment):\n",
        "        return False\n",
        "\n",
        "  return True\n",
        "\n",
        "\n",
        "def html_to_text(raw):\n",
        "\n",
        "  '''Function to clean text data and join'''\n",
        "\n",
        "  soup = BeautifulSoup(raw, 'html.parser')\n",
        "  texts = soup.findAll(text=True)\n",
        "  visible_texts = filter(visible_tags, texts)\n",
        "\n",
        "  return u\" \".join(t.strip() for t in visible_texts)\n",
        "\n",
        "html = urllib.request.urlopen(URL).read()\n",
        "body = html_to_text(html)\n",
        "body"
      ],
      "execution_count": 47,
      "outputs": [
        {
          "output_type": "execute_result",
          "data": {
            "application/vnd.google.colaboratory.intrinsic+json": {
              "type": "string"
            },
            "text/plain": [
              "'         Skip to Main Content Menu Search Search Quick Links News Sports Radio Music Listen Live TV Watch COVID-19 Local updates Watch Live COVID-19 tracker Subscribe to newsletter Top Stories Local The National Opinion World Canada Politics Indigenous Business Health Entertainment Tech & Science CBC News Investigates Go Public Shows About CBC News Toronto Demand spikes for COVID-19 treatment that\\'s saving lives but is in limited supply in Canada As coronavirus infections are surging to record-breaking levels in Ontario, there\\'s concern that demand is spiking\\xa0for ECMO, or extracorporeal membrane oxygenation, a last-resort treatment for some of the sickest COVID-19 patients that\\'s in limited supply. Social Sharing About 40 Canadian hospitals, or 3% of all sites, have access to an ECMO machine Lauren Pelley · CBC News · Posted: Nov 26, 2020 4:00 AM ET | Last Updated: November 26 Tony and Linda Passarelli of Bolton, Ont., and their three children all wound up sick this past spring with COVID-19. Tony had it the worst and spent weeks hospitalized, including a stint on an ECMO machine at Toronto General Hospital, which the family credits with saving his life.  (Submitted by Linda Passarelli ) comments Tony Passarelli was used to having a bit of breathing trouble.  The 52-year-old\\'s asthma often flares up in the spring, but this past March, something felt different. He started wheezing, and several rounds of antibiotics didn\\'t solve whatever was ailing him.  Later that month, his wife of more than 25 years, Linda, fell ill as well. Then she\\xa0tested positive for the virus behind COVID-19. While she isolated in a room at the couple\\'s Bolton, Ont., home, Tony took a turn for the worse, and his wheezing became a cough that just wouldn\\'t quit.  He headed to the nearest emergency department — Headwaters Health Care Centre in Orangeville — on March 29.  \"They just said I had pneumonia,\" Tony said, \"and that they were going to keep me.\"  That\\'s the last thing he remembers.  What happened next, according to the soft-spoken father of three, was a weeks-long ordeal with COVID-19.  150 COVID-19 patients now in Ontario ICUs, hitting key threshold to impact other procedures  After passing out in the hospital, he wound up intubated in an intensive care unit, was transferred to Etobicoke General Hospital in Toronto, suffered round after round of fevers and infections, then became so ill that doctors thought there was nothing more they could do to keep him alive.  \"There\\'s nothing else left,\" Linda recalled being told by one of the ICU physicians in early April.  Then came a sliver of hope.  Tony qualified for an ECMO treatment — or\\xa0extracorporeal membrane oxygenation — which could be his last chance at survival.  \\'High level\\' of demand  Roughly\\xa040 Canadian hospitals have access to at least one ECMO machine , representing just three per cent of all hospital sites across Canada — though it\\'s unclear how many machines in total the country has access to.  Offered at only a handful of Ontario hospital sites, with the bulk of the machines at Toronto General Hospital, it\\'s\\xa0a form of life support that\\xa0uses a pump to circulate blood through a machine that replaces the work of someone\\'s lungs and, in some cases, their heart.  The machine removes carbon dioxide, then sends oxygen-filled blood back into the bloodstream, giving damaged lungs a chance to rest and recover.  Passarelli relaxes at home after he spent time in three separate Ontario hospitals while battling COVID-19. In the pandemic\\'s first wave in Ontario, 34 COVID-19 patients were given ECMO treatment, and more than half survived.  (Submitted by Linda Passarelli)  Patients who qualify for the treatment are usually under 65 and have\\xa0few pre-existing health conditions, ensuring they have the best shot at surviving.  Linda credits the device with saving her husband\\'s life, and she\\'s not alone. In the pandemic\\'s first wave in Ontario, 34 COVID-19 patients were given this potentially life-saving treatment, and more than half survived.  Canadian ICUs brace for COVID-19 resurgence on top of the flu  Now, as coronavirus infections are surging to record-breaking levels, there\\'s concern that demand is quickly rising again\\xa0for ECMO — this time as Toronto General juggles both COVID-19 cases and other patients requiring the last-resort approach that\\'s in limited supply, including those hospitalized for lung transplants.  \"It\\'s a pretty high level,\" said Dr. Marcelo Cypel, surgical director for the University Health Network\\'s extracorporeal life support program, which includes the ECMO treatment at the network\\'s Toronto General site.  Dr. Marcelo Cypel is the surgical director for the University Health Network\\'s extracorporeal life support program in Toronto, which handles ECMO treatments.  (Submitted by University Health Network)  In just the last two weeks, Cypel said, at least a dozen COVID-19 patients have been hooked up to ECMO machines.  At the time of his interview with CBC News on Tuesday, nine of the hospital\\'s 11 intensive care admissions were being given the treatment, using nearly a third of the hospital\\'s 30 ECMO machines — a\\xa0supply that was increased this year to brace for the earlier influx of COVID-19 patients.  \"We are working at our full ICU capacity right now already,\" Cypel\\xa0said. \"And that\\'s a concern, because we continue to receive referrals every day.\"  ECMO team \\'may have to slow down\\'  While the first coronavirus wave\\xa0saw the cancellation of thousands of elective surgeries and other procedures to make room for COVID-19 patients, Cypel said in the second wave, his team is handling another influx of the sickest of those patients, as well as\\xa0anyone needing ECMO for other reasons.  But he worries that may not be sustainable much longer.  If recent provincial lockdowns for Toronto and Peel Region don\\'t put a dent in case growth and ICU admissions, Cypel said, the ECMO team \"may have to slow down,\" which could affect patients waiting for other crucial hospital services such as\\xa0transplants.  This man was clinically dead — but 2 life-saving machines kept his blood pumping until his heart could recover  That\\'s a situation Renee Alkass finds alarming, since she once had the treatment herself for a non-COVID\\xa0medical issue.  In 2017, long before the COVID-19 pandemic, the University of Guelph student developed an ear infection that\\xa0spiralled into acute respiratory distress syndrome (ARDS). After struggling to breathe, Alkass was hospitalized, and doctors\\xa0discovered that both of her lungs were filled with fluid.  After suffering from fluid in her lungs during a strange infection in 2017, Renee Alkass was sent to Toronto General Hospital, where she spent 18 days on an ECMO machine.  (Submitted by Renee Alkass)  She wound up being sent to Toronto General and was on ECMO for 18 days during her stay.  \"I can\\'t even fathom to understand what everyone must be feeling,\" said the 21-year-old, who has since recovered from ARDS and was eventually diagnosed with a rare autoimmune disorder.  \"And I do hope that there\\'s a light at the end of all this and things start looking up from here, and there isn\\'t such a stretch or this need.\"  Burlington woman spent 6 days without lungs thanks to new, life-saving procedure  When asked if the province has any plans to address the recent demand for ECMO at Toronto General, provincial officials didn\\'t outline any.  Instead, a spokesperson told CBC News the decision to use it\\xa0is a clinical one, with the Ministry of Health providing dedicated funding to the hospital for patients who require the treatment.  \"The hospital can expense the ministry for costs related to treating patients with COVID-19 ... if it is above and beyond their funding allocation,\" the ministry\\xa0said in a statement.  \"So, it\\'s not expected that the needs of patients with COVID-19 will impact the use of the therapy for other patients.\"  1 in 10 ICU beds have COVID-19 patients  But Anthony Dale, president and CEO of the Ontario Hospital Association, said the pressure on the ECMO program is just one example of the impact from rising numbers of COVID-19 hospitalizations and ICU admissions.  Roughly one in every 10 intensive care beds in Ontario is now occupied by someone infected with the virus, he recently noted.  \"What people simply have to appreciate is that critical care is the most complex care that you can access in an Ontario hospital, and it\\'s located in only certain hospitals,\" Dale said. \"And it\\'s totally dependent on having access to the right kinds of health professionals with the right kind of technology.\"  CBC Investigates Why Ontario hospitals are full to bursting, despite few COVID-19 patients  Both Dale and Cypel say the key to lowering\\xa0demand for limited\\xa0treatments like ECMO is simply reducing the amount of community spread of COVID-19.  \"I don\\'t want people to only see how serious this is when the province\\'s hospitals are facing an even more destabilizing crisis,\" Dale said.  \"Right now I know it\\'s hidden from you. But I assure you that right now hospitals, especially in major urban centres, are bracing for serious impact over the next two to four weeks.\"  The Passarellis, with their three children and Tony\\'s mother, at home in Bolton, Ont., north of Toronto, after he returned home in May. Tony now uses an oxygen machine to help him breathe  (Submitted by Linda Passarelli)  \\'We\\'re so blessed that he was picked\\'  When Tony Passarelli\\xa0finally woke up at Toronto General, months before the\\xa0second surge of COVID-19 cases, he had no idea a machine had helped him get to that point.  \"I just remember one of the nurses there saying, \\'Do you know where you are? Do you know what day it is?\\' Groggily I said, \\'I\\'m in the hospital, but day-wise, no,\\'\" he recalled. \"She said the date — which I don\\'t remember — and she says, \\'You\\'ve been here three weeks.\\'\"  Tony soon learned more alarming details: His entire family in Bolton, northwest of Toronto, including his three children and mother, all wound up having confirmed or likely infections of the virus.  And he found out there was a long recovery ahead. Tony\\'s motor skills weren\\'t working, and he couldn\\'t eat or drink on his own. He was transferred back to Etobicoke General and discharged in early May, and he now uses an oxygen machine to help him breathe.  COVID-19 hospitalizations approaching peak levels as B.C. reports 525 new cases and 3 more deaths Experimental artificial lung saves baby  But he\\'s alive, Linda said, and that\\'s enough.  \"Our family\\'s a family right now because of the ECMO,\" she added.  What scares the couple now? The realization that there\\'s high demand for only a limited number of machines across the entire province.  \"The fact that there are so few, and there\\'s such a demand ... that is incredibly scary,\" Linda said.  \"We\\'re regular people; we\\'re so blessed that he was picked and he\\'s here today.\" About the Author Lauren Pelley Reporter Lauren Pelley is a CBC News reporter based in Toronto. Currently covering how the COVID-19 pandemic is impacting Canadians, in Toronto and beyond. Contact her at: lauren.pelley@cbc.ca @LaurenPelley CBC\\'s Journalistic Standards and Practices | About CBC News Report Typo or Error Related Stories CBC Investigates  Why Ontario hospitals are full to bursting, despite few COVID-19 patients  150 COVID-19 patients now in Ontario ICUs, hitting key threshold to impact other procedures  Canadian ICUs brace for COVID-19 resurgence on top of the flu  This man was clinically dead — but 2 life-saving machines kept his blood pumping until his heart could recover  Burlington woman spent 6 days without lungs thanks to new, life-saving procedure Add some “good” to your morning and evening. A variety of newsletters you\\'ll love, delivered straight to you. Sign up now Comments To encourage thoughtful and respectful conversations, first and last names will appear with each submission to CBC/Radio-Canada\\'s online communities (except in children and youth-oriented communities). Pseudonyms will no longer be permitted. By submitting a comment, you accept that CBC has the right to reproduce and publish that comment in whole or in part, in any manner CBC chooses. Please note that CBC does not endorse the opinions expressed in comments. Comments on this story are moderated according to our  Submission Guidelines . Comments are welcome while open. We reserve the right to close comments at any time. Footer Links My Account Profile CBC Gem Newsletters Connect with CBC Facebook Twitter YouTube Instagram Mobile RSS Podcasts Contact CBC Submit Feedback Help Centre Audience Relations, CBC P.O. Box 500 Station A Toronto, ON Canada, M5W 1E6  Toll-free (Canada only): 1-866-306-4636 TTY/Teletype writer: 1-866-220-6045 About CBC Corporate Info Sitemap Reuse & Permission Terms of Use Privacy Jobs Our Unions Independent Producers Political Ads Registry AdChoices Services Ombudsman Public Appearances Commercial Services CBC Shop Doing Business with Us Renting Facilities Accessibility It is a priority for CBC to create a website that is accessible to all Canadians including people with visual, hearing, motor and cognitive challenges. Closed Captioning and Described Video is available for many CBC shows offered on  CBC Gem . About CBC Accessibility Accessibility Feedback © 2020 CBC/Radio-Canada. All rights reserved.  Visitez Radio-Canada.ca now               '"
            ]
          },
          "metadata": {
            "tags": []
          },
          "execution_count": 47
        }
      ]
    },
    {
      "cell_type": "markdown",
      "metadata": {
        "id": "c9m3-H9RZLPl"
      },
      "source": [
        "***4. Creating the summary and evaluation***\n",
        "\n",
        "\n",
        "* Now we can pass the corpus above through our model to create the summary and evaluate\n",
        "* There are a number of parameters that you can specify e.g size of output summary relative to input corpus (ratio) and minimum length per sentence(min_length).\n",
        "\n",
        "\n",
        "\n"
      ]
    },
    {
      "cell_type": "code",
      "metadata": {
        "id": "hbIzBDDasdUN",
        "colab": {
          "base_uri": "https://localhost:8080/"
        },
        "outputId": "31a293a5-cca6-413d-d7dc-f39e315936f9"
      },
      "source": [
        "# Exploring the output\n",
        "result = model(body, ratio=0.25, min_length=25)\n",
        "summary = ''.join(result)\n",
        "print(summary)"
      ],
      "execution_count": 55,
      "outputs": [
        {
          "output_type": "stream",
          "text": [
            "Social Sharing About 40 Canadian hospitals, or 3% of all sites, have access to an ECMO machine Lauren Pelley · CBC News · Posted: Nov 26, 2020 4:00 AM ET | Last Updated: November 26 Tony and Linda Passarelli of Bolton, Ont., While she isolated in a room at the couple's Bolton, Ont., 150 COVID-19 patients now in Ontario ICUs, hitting key threshold to impact other procedures  After passing out in the hospital, he wound up intubated in an intensive care unit, was transferred to Etobicoke General Hospital in Toronto, suffered round after round of fevers and infections, then became so ill that doctors thought there was nothing more they could do to keep him alive. Then came a sliver of hope. In the pandemic's first wave in Ontario, 34 COVID-19 patients were given this potentially life-saving treatment, and more than half survived. \"It's a pretty high level,\" said Dr. Marcelo Cypel, surgical director for the University Health Network's extracorporeal life support program, which includes the ECMO treatment at the network's Toronto General site. \"We are working at our full ICU capacity right now already,\" Cypel said. \" ECMO team 'may have to slow down'  While the first coronavirus wave saw the cancellation of thousands of elective surgeries and other procedures to make room for COVID-19 patients, Cypel said in the second wave, his team is handling another influx of the sickest of those patients, as well as anyone needing ECMO for other reasons. But he worries that may not be sustainable much longer. This man was clinically dead — but 2 life-saving machines kept his blood pumping until his heart could recover  That's a situation Renee Alkass finds alarming, since she once had the treatment herself for a non-COVID medical issue. \"What people simply have to appreciate is that critical care is the most complex care that you can access in an Ontario hospital, and it's located in only certain hospitals,\" Dale said. \" \"Right now I know it's hidden from you. north of Toronto, after he returned home in May. Tony now uses an oxygen machine to help him breathe  (Submitted by Linda Passarelli)  'We're so blessed that he was picked'  When Tony Passarelli finally woke up at Toronto General, months before the second surge of COVID-19 cases, he had no idea a machine had helped him get to that point. She said the date — which I don't remember — and she says, 'You've been here three weeks.'\" The realization that there's high demand for only a limited number of machines across the entire province. A variety of newsletters you'll love, delivered straight to you. Sign up now Comments To encourage thoughtful and respectful conversations, first and last names will appear with each submission to CBC/Radio-Canada's online communities (except in children and youth-oriented communities). By submitting a comment, you accept that CBC has the right to reproduce and publish that comment in whole or in part, in any manner CBC chooses. Please note that CBC does not endorse the opinions expressed in comments. Comments are welcome while open. Closed Captioning and Described Video is available for many CBC shows offered on  CBC Gem . About CBC Accessibility Accessibility Feedback © 2020 CBC/Radio-Canada.\n"
          ],
          "name": "stdout"
        }
      ]
    },
    {
      "cell_type": "markdown",
      "metadata": {
        "id": "bk7GNKFO-bdi"
      },
      "source": [
        "Calculating accuracy score using BLEU."
      ]
    },
    {
      "cell_type": "code",
      "metadata": {
        "id": "zk6WiCpAfTnq"
      },
      "source": [
        "from nltk.translate.bleu_score import corpus_bleu\n",
        "\n",
        "score = corpus_bleu(body, summary)\n",
        "score"
      ],
      "execution_count": null,
      "outputs": []
    }
  ]
}