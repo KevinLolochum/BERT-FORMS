{
  "nbformat": 4,
  "nbformat_minor": 0,
  "metadata": {
    "colab": {
      "name": "BERT - Text Summarization",
      "provenance": [],
      "authorship_tag": "ABX9TyPvXYo091xN3T83jILCRkiK",
      "include_colab_link": true
    },
    "kernelspec": {
      "name": "python3",
      "display_name": "Python 3"
    },
    "accelerator": "GPU"
  },
  "cells": [
    {
      "cell_type": "markdown",
      "metadata": {
        "id": "view-in-github",
        "colab_type": "text"
      },
      "source": [
        "<a href=\"https://colab.research.google.com/github/KevinLolochum/BERT-FORMS/blob/main/BERT_Text_Summarization.ipynb\" target=\"_parent\"><img src=\"https://colab.research.google.com/assets/colab-badge.svg\" alt=\"Open In Colab\"/></a>"
      ]
    },
    {
      "cell_type": "markdown",
      "metadata": {
        "id": "TFyTSELaeUs6"
      },
      "source": [
        "PyTorch Solution"
      ]
    },
    {
      "cell_type": "markdown",
      "metadata": {
        "id": "y9H3vQ6BfuLr"
      },
      "source": [
        "Installing text summarizer, neuralcoref and spacy.\n",
        "\n"
      ]
    },
    {
      "cell_type": "code",
      "metadata": {
        "id": "PDoRuSwsg_S1"
      },
      "source": [
        "! pip install bert-extractive-summarizer\n",
        "! pip install neuralcoref\n",
        "! pip install spacy==2.2.2"
      ],
      "execution_count": null,
      "outputs": []
    },
    {
      "cell_type": "code",
      "metadata": {
        "id": "v8m7b0nGgbY1"
      },
      "source": [
        "# Libraries\n",
        "\n",
        "import spacy\n",
        "import numpy as np\n",
        "import pandas as pd\n",
        "import torch\n",
        "from transformers import AutoConfig, AutoModel, AutoTokenizer, AutoConfig\n",
        "from summarizer import Summarizer\n",
        "from summarizer.coreference_handler import CoreferenceHandler\n",
        "\n",
        "import en_core_web_sm\n"
      ],
      "execution_count": 12,
      "outputs": []
    },
    {
      "cell_type": "markdown",
      "metadata": {
        "id": "yAg6Iy4Ljku1"
      },
      "source": [
        "Loading data to be used for summarization. Ontario Covid19 News [releases](https://news.ontario.ca/en/release/59318/ontario-appoints-new-ministers-covid-19-vaccine-distribution-task-force)."
      ]
    },
    {
      "cell_type": "code",
      "metadata": {
        "id": "ru-MwZ15jkIf"
      },
      "source": [
        "! pip install selenium"
      ],
      "execution_count": null,
      "outputs": []
    },
    {
      "cell_type": "markdown",
      "metadata": {
        "id": "kTCJIUV-4MB1"
      },
      "source": [
        "coreference handler predicts the "
      ]
    },
    {
      "cell_type": "code",
      "metadata": {
        "id": "N4TQZXYBlhnU"
      },
      "source": [
        "# Summarizer model\n",
        "handler = CoreferenceHandler(greedyness=0.4)"
      ],
      "execution_count": 6,
      "outputs": []
    },
    {
      "cell_type": "code",
      "metadata": {
        "id": "tB3-AzSwekFn"
      },
      "source": [
        "# Initiating corefence, model and tokenizer\n",
        "\n",
        "Config = AutoConfig.from_pretrained('bert-base-cased')\n",
        "Config.output_hidden_states = True\n",
        "MAIN_MODEL = AutoModel.from_pretrained('bert-base-cased', config = Config)\n",
        "TOKENIZER = AutoTokenizer.from_pretrained('bert-base-cased')\n",
        "\n",
        "# Model\n",
        "\n",
        "model = Summarizer(custom_model= MAIN_MODEL, custom_tokenizer= TOKENIZER)"
      ],
      "execution_count": null,
      "outputs": []
    },
    {
      "cell_type": "markdown",
      "metadata": {
        "id": "j6X7HEPif6ko"
      },
      "source": [
        "Ontario News Releases:"
      ]
    },
    {
      "cell_type": "code",
      "metadata": {
        "id": "OW5kuGGyi7s9"
      },
      "source": [
        "! pip install selenium"
      ],
      "execution_count": null,
      "outputs": []
    },
    {
      "cell_type": "code",
      "metadata": {
        "id": "v8yvb52njdqS"
      },
      "source": [
        ""
      ],
      "execution_count": null,
      "outputs": []
    },
    {
      "cell_type": "code",
      "metadata": {
        "id": "JfIgZuEqsNLh"
      },
      "source": [
        "# Text to be summarized \n",
        "body = '''\n",
        "TORONTO ― The Ontario government is announcing the creation of the Ministers' COVID-19 Vaccine Distribution Task Force, building on the steps the government has been taking to prepare for the delivery of a vaccine. The task force will advise the province's development and implementation of an immunization program, including the ethical, timely and effective distribution of COVID-19 vaccines in Ontario.\n",
        "\n",
        "Rick Hillier, former Chief of Defence Staff for the Canadian Forces and Commander of the NATO-led forces during the War in Afghanistan, has been named Chair of this new task force, leading the largest vaccine rollout in a generation. His extensive leadership experience in providing governance, strategic and public policy advice, and leading multiple national and international endeavours will help lead Ontario in the successful implementation of the COVID-19 immunization program.\n",
        "Details were provided today by Premier Doug Ford, Christine Elliott, Deputy Premier and Minister of Health, and Solicitor General Sylvia Jones.\n",
        "\"The fact that we are setting up this task force is a sign that we are making progress in the fight against COVID-19,\" said Premier Ford. \"We still have a long way to go, but there is a light at the end of the tunnel. That's why I have asked General Hillier to lead this effort, because we need the best of the best for the monumental task at hand. I am confident he will bring the same disciplined leadership and military precision needed to execute one of the largest logistical undertakings our province has ever faced.\"\n",
        "The COVID-19 Vaccine Distribution Task Force members will include cross-government and external representation with diverse expertise in operations and logistics, federal-provincial relations, health and clinical domains, public health and immunization, ethics, and information technology and data. The task force will provide advice and recommendations on the timely and efficient execution of Ontario's COVID-19 immunization program. It will ensure the province can immunize people as quickly and safely as possible, as the various vaccines in development become available. The task force will advise on:\n",
        "•\tDelivery, storage and distribution of the vaccines;\n",
        "•\tSupport for health care system partners to deliver a phased vaccination program that initially prioritizes vulnerable populations and follows with mass immunization;\n",
        "•\tClinical guidance on vaccine administration and surveillance of vaccine uptake;\n",
        "•\tData,reporting, and technology to provide timely, relevant and accurate information to clinicians conducting vaccine administration, decision-makers, and the public; and\n",
        "•\tImplementation of a broad and sustained public education and community outreach effort to encourage vaccination.\n",
        "Other members of the COVID-19 Vaccine Distribution Task Force will be announced in the coming days.\n",
        "\"We are on the verge of a critical new phase in our efforts to stop the spread of COVID-19, and General Hillier's track record of leadership and compassion makes him the right person to lead our task force,\" said Minister Elliott. \"In the meantime, it's important to keep in mind that a vaccine is still months away, so I'm urging everyone to continue following public health advice in order to limit the spread of COVID-19 and keep our communities safe.\"\n",
        "The province is planning the early rollout of the COVID-19 vaccine program with vaccines from both Pfizer and Moderna. Planning is already underway with federal and provincial partners to prepare for the receipt and rollout of the vaccine. Confirmed allocations of the number of doses and schedules for delivery to Ontario is expected shortly. The government will provide updates as more details are available.\n",
        "\"Having always believed that 'duty calls', the safe, secure and successful delivery of COVID-19 vaccines is a critical mission I'm honoured to accept for the people of Ontario,\" said General Rick Hillier (retired), Chair of the province's COVID-19 Vaccine Distribution Task Force. \"Having to plan with so much uncertainty, including not yet knowing the full extent of what vaccines will be approved and when, this will be no easy task. However, this task force will bring to bear an unprecedented depth and breadth of experience as we plan for the end of this pandemic.\"\n",
        "\"Our government continues to take all measures necessary to stop the spread of COVID-19 while planning for the availability of a safe and effective vaccine once it is ready,\" said Solicitor General Jones. \"This task force will help chart a vital path forward in the development of an immunization plan that protects communities and keeps Ontarians safe.\n",
        "'''"
      ],
      "execution_count": 8,
      "outputs": []
    },
    {
      "cell_type": "code",
      "metadata": {
        "id": "hbIzBDDasdUN",
        "colab": {
          "base_uri": "https://localhost:8080/"
        },
        "outputId": "c77b045c-769d-4bd1-d364-efc94688f17d"
      },
      "source": [
        "# Exploring the output\n",
        "result = model(body, ratio=0.2, min_length=60)\n",
        "full = ''.join(result)\n",
        "print(full)"
      ],
      "execution_count": 9,
      "outputs": [
        {
          "output_type": "stream",
          "text": [
            "TORONTO ― The Ontario government is announcing the creation of the Ministers' COVID-19 Vaccine Distribution Task Force, building on the steps the government has been taking to prepare for the delivery of a vaccine. The task force will advise the province's development and implementation of an immunization program, including the ethical, timely and effective distribution of COVID-19 vaccines in Ontario. \"We are on the verge of a critical new phase in our efforts to stop the spread of COVID-19, and General Hillier's track record of leadership and compassion makes him the right person to lead our task force,\" said Minister Elliott. \" Confirmed allocations of the number of doses and schedules for delivery to Ontario is expected shortly.\n"
          ],
          "name": "stdout"
        }
      ]
    },
    {
      "cell_type": "markdown",
      "metadata": {
        "id": "bk7GNKFO-bdi"
      },
      "source": [
        "Calculating accuracy score using BLEU."
      ]
    },
    {
      "cell_type": "code",
      "metadata": {
        "colab": {
          "base_uri": "https://localhost:8080/",
          "height": 310
        },
        "id": "0P6e-nyf-hvd",
        "outputId": "a8b6b409-c081-4bb1-fa5a-f916a6813cf4"
      },
      "source": [
        "from torchnlp.metrics import get_moses_multi_bleu"
      ],
      "execution_count": 13,
      "outputs": [
        {
          "output_type": "error",
          "ename": "ModuleNotFoundError",
          "evalue": "ignored",
          "traceback": [
            "\u001b[0;31m---------------------------------------------------------------------------\u001b[0m",
            "\u001b[0;31mModuleNotFoundError\u001b[0m                       Traceback (most recent call last)",
            "\u001b[0;32m<ipython-input-13-362667bf0087>\u001b[0m in \u001b[0;36m<module>\u001b[0;34m()\u001b[0m\n\u001b[0;32m----> 1\u001b[0;31m \u001b[0;32mfrom\u001b[0m \u001b[0mtorchnlp\u001b[0m\u001b[0;34m.\u001b[0m\u001b[0mmetrics\u001b[0m \u001b[0;32mimport\u001b[0m \u001b[0mget_moses_multi_bleu\u001b[0m\u001b[0;34m\u001b[0m\u001b[0;34m\u001b[0m\u001b[0m\n\u001b[0m",
            "\u001b[0;31mModuleNotFoundError\u001b[0m: No module named 'torchnlp'",
            "",
            "\u001b[0;31m---------------------------------------------------------------------------\u001b[0;32m\nNOTE: If your import is failing due to a missing package, you can\nmanually install dependencies using either !pip or !apt.\n\nTo view examples of installing some common dependencies, click the\n\"Open Examples\" button below.\n\u001b[0;31m---------------------------------------------------------------------------\u001b[0m\n"
          ]
        }
      ]
    },
    {
      "cell_type": "code",
      "metadata": {
        "id": "myEXim-oBv67"
      },
      "source": [
        ""
      ],
      "execution_count": null,
      "outputs": []
    },
    {
      "cell_type": "code",
      "metadata": {
        "id": "-VhnXN-C-a03"
      },
      "source": [
        ""
      ],
      "execution_count": null,
      "outputs": []
    }
  ]
}