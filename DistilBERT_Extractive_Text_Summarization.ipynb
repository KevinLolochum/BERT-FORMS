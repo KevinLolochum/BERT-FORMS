{
  "nbformat": 4,
  "nbformat_minor": 0,
  "metadata": {
    "colab": {
      "name": "DistilBERT - Extractive Text Summarization",
      "provenance": [],
      "collapsed_sections": [],
      "authorship_tag": "ABX9TyPF5QZrPvD4eGBmXVt00sop",
      "include_colab_link": true
    },
    "kernelspec": {
      "name": "python3",
      "display_name": "Python 3"
    },
    "accelerator": "GPU"
  },
  "cells": [
    {
      "cell_type": "markdown",
      "metadata": {
        "id": "view-in-github",
        "colab_type": "text"
      },
      "source": [
        "<a href=\"https://colab.research.google.com/github/KevinLolochum/BERT-MODELS/blob/main/DistilBERT_Extractive_Text_Summarization.ipynb\" target=\"_parent\"><img src=\"https://colab.research.google.com/assets/colab-badge.svg\" alt=\"Open In Colab\"/></a>"
      ]
    },
    {
      "cell_type": "markdown",
      "metadata": {
        "id": "TFyTSELaeUs6"
      },
      "source": [
        "**DistilBERT for Extractive Summarization using PyTorch Solution**"
      ]
    },
    {
      "cell_type": "markdown",
      "metadata": {
        "id": "y9H3vQ6BfuLr"
      },
      "source": [
        "***1. Installing text summarizer, neuralcoref and spacy.***\n",
        "\n",
        "\n",
        "* Spacy models enable corefencing explained [here](https://spacy.io/universe/project/neuralcoref). \n",
        "* Coreferencing is the ability of models to predict the antecedent that is being refered to later in the sentence/paragraph through ranking. \n",
        "* I will not use coferencing for this model but it is good to know and might use in future models.\n",
        "\n"
      ]
    },
    {
      "cell_type": "code",
      "metadata": {
        "id": "PDoRuSwsg_S1"
      },
      "source": [
        "! pip install bert-extractive-summarizer\n",
        "! pip install neuralcoref\n",
        "! pip install spacy"
      ],
      "execution_count": null,
      "outputs": []
    },
    {
      "cell_type": "code",
      "metadata": {
        "id": "v8m7b0nGgbY1"
      },
      "source": [
        "# Libraries\n",
        "\n",
        "import spacy\n",
        "import numpy as np\n",
        "import pandas as pd\n",
        "import torch\n",
        "from transformers import DistilBertConfig, DistilBertModel, DistilBertTokenizer\n",
        "from summarizer import Summarizer\n",
        "from summarizer.coreference_handler import CoreferenceHandler\n",
        "\n",
        "import en_core_web_sm\n"
      ],
      "execution_count": null,
      "outputs": []
    },
    {
      "cell_type": "markdown",
      "metadata": {
        "id": "yAg6Iy4Ljku1"
      },
      "source": [
        "***2. Instantiating the Model***\n",
        "\n"
      ]
    },
    {
      "cell_type": "code",
      "metadata": {
        "id": "tB3-AzSwekFn"
      },
      "source": [
        "# Initiating model and tokenizer\n",
        "\n",
        "Config = DistilBertConfig.from_pretrained('distilbert-base-cased')\n",
        "Config.output_hidden_states = True\n",
        "MAIN_MODEL = DistilBertModel.from_pretrained('bert-base-cased', config = Config)\n",
        "TOKENIZER = DistilBertTokenizer.from_pretrained('bert-base-cased')\n",
        "\n",
        "# Model\n",
        "\n",
        "model = Summarizer(custom_model= MAIN_MODEL, custom_tokenizer= TOKENIZER)"
      ],
      "execution_count": null,
      "outputs": []
    },
    {
      "cell_type": "markdown",
      "metadata": {
        "id": "j6X7HEPif6ko"
      },
      "source": [
        "***3. Loading COVID19 News Data from the Web and Cleaning***\n",
        "\n",
        "* Ontario covid19 [news](https://news.ontario.ca/en/release/59437/ontario-expanding-innovative-home-and-community-care-services) and summary.\n",
        "\n"
      ]
    },
    {
      "cell_type": "code",
      "metadata": {
        "id": "_BrLaGcxKzeO"
      },
      "source": [
        "body = ''' The Ontario government is investing more than $115 million to support 850 patients across the province with high, complex care needs access services in the comfort of their own homes, while also expanding virtual care options for patients across the province. This funding is part of the province's COVID-19 fall preparedness plan, Keeping Ontarians Safe: Preparing for Future Waves of COVID-19, which will enable the province to respond to future surges and waves of the virus, while preserving hospital capacity.\n",
        "\n",
        "Details were provided today by Premier Doug Ford and Christine Elliott, Deputy Premier and Minister of Health.\n",
        "\n",
        "\"With today's modern medical advances and technology, and with the help of our dedicated nurses and personal support workers, we are ready to provide quality care for patients in their own homes and in their communities,\" said Premier Ford. \"This kind of care is not only critical to keeping patients safe and healthy during COVID-19, but also part of our government's ongoing commitment to end hallway health care and ensure our hospitals are not overwhelmed.\"\n",
        "\n",
        "The new High Intensity Supports at Home program helps patients with high care needs transition from a hospital back to their home or community setting with the right supports, also known as alternate level of care patients. This program provides integrated, team-based care where multiple types of services are wrapped around the patient. This can include up to 11 hours a day of personal support services and nursing services per patient. Other community services may include Meals on Wheels, homemaking and transportation to medical appointments.\n",
        "\n",
        "With this investment, the province will add more capacity in hospitals, provideapproximately 484,000 nursing and therapy visits, and approximately 1.4 million personal support worker hours.\n",
        "\n",
        "\"Our government is making it easier and faster for patients to access high-quality care at home,\" said Minister Elliott. \"Connecting patients with the care they need, when and where they need it will help keep Ontarians healthy and avoid unnecessary visits and stays at the hospital. This program will help ensure Ontario's hospitals have the capacity needed to address those impacted by the COVID-19 pandemic.\"\n",
        "\n",
        "As part of Ontario's continued response to the COVID-19 outbreak and in alignment with the Digital First for Health Strategy, Ontario is investing $14.5 million to support the expansion of virtual care for Ontario Health Teams and frontline home and community care service providers. Ontario has seen a significant increase in the number of visits provided virtually across Ontario. This investment will equip health care providers with the support needed to sustain current capacity and improve the quality of care delivered virtually. Virtual care in home and community care settings will also benefit rural and remote area regions where access to care is more challenging.\n",
        "\n",
        "An investment of $9.5 million will go towards remote patient monitoring programs delivered by various health care organizations, including Ontario Health Team member organizations like hospitals. This will support the delivery of remote patient care, monitoring and symptom management at home to support COVID-19 patients and other vulnerable populations. The implementation of these remote patient monitoring programs will allow patients to connect virtually with a health care provider for routine checkups, symptom monitoring, referral to other providers, and escalation where necessary to a virtual or in-person medical assessment.\n",
        "\n",
        "As part of this funding, $5 million will be invested in virtual home and community care capacity by providing funding directly to frontline home and community care service providers. This investment will help purchase technologies for video conferencing, remote monitoring and secure messaging that will enable care to continue to be delivered at home, minimizing face-to-face visits where appropriate, and keeping clients and families out of the hospital.\n",
        "\n",
        "These investments will offer more choices in how patients receive care and make health care simpler, easier and more convenient, while allowing patients to continue accessing the routine health care services they need throughout the pandemic.\n",
        "\n",
        "The government continues to build a better, more connected healthcare system through the creation of Ontario Health Teams, which are bringing together health care providers to work as one team to improve patient outcomes. Through an Ontario Health Team, patients will experience easier transitions from one provider to another, including, for example, between hospitals and home care providers, with one patient story, one patient record and one care plan. Patients and families will also have access to 24/7 navigation and care coordination services. Forty-two Ontario Health Teams have been approved to date.'''"
      ],
      "execution_count": null,
      "outputs": []
    },
    {
      "cell_type": "code",
      "metadata": {
        "id": "GwD6QffA3MJp"
      },
      "source": [
        "Human_summary = ''' The Ministry of Health and Ontario Health are supporting a needs-based application process for reviewing virtual care investment proposals submitted through the Ontario Health Regional lead by home and community care service providers and Ontario Health Teams.\n",
        "Proposals will be selected based on their capacity and readiness, and the services will be available in early 2021.\n",
        "Virtually delivered home and community care is provided where it is appropriate to the needs and preferences of the patient and their family. \n",
        "In-person home and community care has been shown to be safe and continues to be the primary way that most people receive these services.\n",
        "Virtual care is intended to complement in-person care as appropriate and will not replace in-person visits. \n",
        "In-person care will continue to be offered for patients who prefer it and when it is clinically necessary.\n",
        "During the COVID-19 outbreak, around 7,500 virtual home care nursing and rehab visits have been delivered per week.\n",
        "Two thirds of Canadians are interested in consulting with various health care providers through a virtual platform.\n",
        "For additional protection against COVID-19, the Ontario government is encouraging everyone to download the COVID Alert app on their smartphone from the Apple and Google Play app stores. '''"
      ],
      "execution_count": null,
      "outputs": []
    },
    {
      "cell_type": "markdown",
      "metadata": {
        "id": "c9m3-H9RZLPl"
      },
      "source": [
        "***4. Creating the summary and evaluation***\n",
        "\n",
        "\n",
        "* Now we can pass the corpus above through our model to create the summary and evaluate\n",
        "* There are a number of parameters that you can specify e.g size of output summary relative to input corpus (ratio) and minimum length per sentence(min_length).\n",
        "\n",
        "\n",
        "\n"
      ]
    },
    {
      "cell_type": "code",
      "metadata": {
        "id": "hbIzBDDasdUN",
        "colab": {
          "base_uri": "https://localhost:8080/"
        },
        "outputId": "0809f3cc-237f-4bae-8dd3-1e8eec20a393"
      },
      "source": [
        "# Exploring the output\n",
        "result = model(body, ratio=0.25, min_length=25)\n",
        "summary = ''.join(result)\n",
        "print(summary)"
      ],
      "execution_count": null,
      "outputs": [
        {
          "output_type": "stream",
          "text": [
            "The Ontario government is investing more than $115 million to support 850 patients across the province with high, complex care needs access services in the comfort of their own homes, while also expanding virtual care options for patients across the province. This kind of care is not only critical to keeping patients safe and healthy during COVID-19, but also part of our government's ongoing commitment to end hallway health care and ensure our hospitals are not overwhelmed.\" This can include up to 11 hours a day of personal support services and nursing services per patient. Ontario has seen a significant increase in the number of visits provided virtually across Ontario. This investment will equip health care providers with the support needed to sustain current capacity and improve the quality of care delivered virtually. This will support the delivery of remote patient care, monitoring and symptom management at home to support COVID-19 patients and other vulnerable populations. Forty-two Ontario Health Teams have been approved to date.\n"
          ],
          "name": "stdout"
        }
      ]
    },
    {
      "cell_type": "markdown",
      "metadata": {
        "id": "bk7GNKFO-bdi"
      },
      "source": [
        "Calculating accuracy score using ROGUE."
      ]
    },
    {
      "cell_type": "code",
      "metadata": {
        "id": "syAfph8bbJDe"
      },
      "source": [
        "! pip install rouge/requirements.txt\n",
        "! pip install rouge-score"
      ],
      "execution_count": null,
      "outputs": []
    },
    {
      "cell_type": "code",
      "metadata": {
        "id": "zk6WiCpAfTnq"
      },
      "source": [
        "from rouge_score import rouge_scorer\n",
        "\n",
        "scorer = rouge_scorer.RougeScorer('rouge1', use_stemmer=True)\n",
        "scores = scorer.score(Human_summary, summary)"
      ],
      "execution_count": null,
      "outputs": []
    }
  ]
}