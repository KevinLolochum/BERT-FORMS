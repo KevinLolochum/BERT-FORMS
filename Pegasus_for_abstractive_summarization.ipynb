{
  "nbformat": 4,
  "nbformat_minor": 0,
  "metadata": {
    "colab": {
      "name": "Pegasus for abstractive summarization",
      "provenance": [],
      "authorship_tag": "ABX9TyOhPZCPbMwhDAN1FO9W7acJ",
      "include_colab_link": true
    },
    "kernelspec": {
      "name": "python3",
      "display_name": "Python 3"
    }
  },
  "cells": [
    {
      "cell_type": "markdown",
      "metadata": {
        "id": "view-in-github",
        "colab_type": "text"
      },
      "source": [
        "<a href=\"https://colab.research.google.com/github/KevinLolochum/Transformer-style-fine-tuned-models/blob/main/Pegasus_for_abstractive_summarization.ipynb\" target=\"_parent\"><img src=\"https://colab.research.google.com/assets/colab-badge.svg\" alt=\"Open In Colab\"/></a>"
      ]
    },
    {
      "cell_type": "markdown",
      "metadata": {
        "id": "dem2-wwXPPWZ"
      },
      "source": [
        "- **Abstractive** summarization is a type of summarization that gives a summary of a large text corpus by reducing and rephrasing the senteces in the large corpus.\r\n",
        "- This is different from **extractive** summarization that involves simply selecting a set of important senteces from the corpus and combining them.\r\n",
        "- I have already explained pegasus architecture and how it works in the explanation colab. This is a demonstration of that functionality."
      ]
    },
    {
      "cell_type": "code",
      "metadata": {
        "id": "xCyPudhQjBIi"
      },
      "source": [
        "# Install transformers and sentence piece, which is required in transformers\r\n",
        "!pip install transformers\r\n",
        "!pip install sentencepiece"
      ],
      "execution_count": null,
      "outputs": []
    },
    {
      "cell_type": "code",
      "metadata": {
        "id": "rYd8diPGi2HR"
      },
      "source": [
        "import pandas as pd\r\n",
        "import numpy as np\r\n",
        "import torch\r\n",
        "from transformers import PegasusForConditionalGeneration, PegasusTokenizer"
      ],
      "execution_count": 2,
      "outputs": []
    },
    {
      "cell_type": "markdown",
      "metadata": {
        "id": "9kT2MyyYi1tC"
      },
      "source": [
        "\r\n",
        "\r\n",
        "- Quick demonstration of how the model works.\r\n",
        "- I am using Pegasus \r\n",
        "- Models that were fine-tuned for other datasets do very bad at summarizing unrelated corpus."
      ]
    },
    {
      "cell_type": "code",
      "metadata": {
        "id": "FNodFt6H62EV"
      },
      "source": [
        "Obama = \"\"\"Barack Hussein Obama II[a] (born August 4, 1961) is an American politician and attorney who served as the 44th president of the United States from 2009 to 2017.\r\n",
        " A member of the Democratic Party, Obama was the first African-American president of the United States. \r\n",
        " He previously served as a U.S. senator from Illinois from 2005 to 2008 and as an Illinois state senator from 1997 to 2004.\r\n",
        "Obama was born in Honolulu, Hawaii. After graduating from Columbia University in 1983, he worked as a community organizer in Chicago. \r\n",
        "In 1988, he enrolled in Harvard Law School, where he was the first black person to be president of the Harvard Law Review. \r\n",
        "After graduating, he became a civil rights attorney and an academic, teaching constitutional law at the University of Chicago Law School from 1992 to 2004.\r\n",
        " Turning to elective politics, he represented the 13th district from 1997 until 2004 in the Illinois Senate, when he ran for the U.S. Senate. \r\n",
        " Obama received national attention in 2004 with his March Senate primary win, his well-received July Democratic National Convention keynote address, and his landslide November election to the Senate. \r\n",
        " In 2008, he was nominated by the Democratic Party for president a year after his presidential campaign began, and after a close primary campaign against Hillary Clinton, Obama was elected over Republican nominee John McCain and was inaugurated alongside his running mate, Joe Biden, on January 20, 2009.\r\n",
        " Nine months later, he was named the 2009 Nobel Peace Prize laureate.\r\n",
        "Obama signed many landmark bills into law during his first two years in office. \r\n",
        "The main reforms that were passed include the Affordable Care Act (commonly referred to as ACA or \"Obamacare\"), although without a public health insurance option, the Dodd–Frank Wall Street Reform and Consumer Protection Act, and the Don't Ask, Don't Tell Repeal Act of 2010. \r\n",
        "The American Recovery and Reinvestment Act of 2009 and Tax Relief, Unemployment Insurance Reauthorization, and Job Creation Act of 2010 served as economic stimuli amidst the Great Recession. \r\n",
        "After a lengthy debate over the national debt limit, he signed the Budget Control and the American Taxpayer Relief Acts. \r\n",
        "In foreign policy, he increased U.S. troop levels in Afghanistan, reduced nuclear weapons with the United States–Russia New START treaty, and ended military involvement in the Iraq War. \r\n",
        "He ordered military involvement in Libya for the implementation of the UN Security Council Resolution 1973, contributing to the overthrow of Muammar Gaddafi. \r\n",
        "He also ordered the military operations that resulted in the deaths of Osama bin Laden and suspected Yemeni Al-Qaeda operative Anwar al-Awlaki.\r\n",
        "After winning re-election by defeating Republican opponent Mitt Romney, Obama was sworn in for a second term in 2013. During this term, he promoted inclusion for LGBT Americans. \r\n",
        "His administration filed briefs that urged the Supreme Court to strike down same-sex marriage bans as unconstitutional (United States v. Windsor and Obergefell v. Hodges); same-sex marriage was legalized nationwide in 2015 after the Court ruled so in Obergefell.\r\n",
        "He advocated for gun control in response to the Sandy Hook Elementary School shooting, indicating support for a ban on assault weapons, and issued wide-ranging executive actions concerning global warming and immigration. \r\n",
        "In foreign policy, he ordered military intervention in Iraq in response to gains made by ISIL after the 2011 withdrawal from Iraq, continued the process of ending U.S. combat operations in Afghanistan in 2016.\r\n",
        "promoted discussions that led to the 2015 Paris Agreement on global climate change, initiated sanctions against Russia following the invasion in Ukraine and again after interference in the 2016 U.S. elections, brokered the JCPOA nuclear deal with Iran, and normalized U.S. relations with Cuba. \r\n",
        "Obama nominated three justices to the Supreme Court: Sonia Sotomayor and Elena Kagan were confirmed as justices, while Merrick Garland faced partisan obstruction from the Republican-led Senate led by Mitch McConnell, which never held hearings or a vote on the nomination. \r\n",
        "Obama left office in January 2017 and continues to reside in Washington, D.C.[2][3]\r\n",
        "During Obama's term in office, the United States' reputation abroad, as well as the American economy, significantly improved.\r\n",
        "Obama's presidency has generally been regarded favorably, and evaluations of his presidency among historians, political scientists, and the general public frequently place him among the upper tier of American presidents.\r\n",
        "\"\"\""
      ],
      "execution_count": 9,
      "outputs": []
    },
    {
      "cell_type": "code",
      "metadata": {
        "id": "6XKskl8eiOAJ"
      },
      "source": [
        "# Choosing the model, tokenizing and \r\n",
        "device = 'cuda' if torch.cuda.is_available() else 'cpu'\r\n",
        "\r\n",
        "model_name = 'google/pegasus-large'\r\n",
        "tokenizer = PegasusTokenizer.from_pretrained(model_name)\r\n",
        "model = PegasusForConditionalGeneration.from_pretrained(model_name).to(device)\r\n",
        "batch = tokenizer.prepare_seq2seq_batch(Obama, padding = 'longest', truncation = True, return_tensors = \"pt\").to(device)\r\n",
        "\r\n",
        "translated = model.generate(**batch)\r\n",
        "\r\n",
        "summary = tokenizer.batch_decode(translated, skip_special_tokens=True)\r\n"
      ],
      "execution_count": 10,
      "outputs": []
    },
    {
      "cell_type": "code",
      "metadata": {
        "colab": {
          "base_uri": "https://localhost:8080/",
          "height": 88
        },
        "id": "1L1OoqwK6IcX",
        "outputId": "75a649dc-f57a-4320-edc1-21f249ba25db"
      },
      "source": [
        "summary[0]"
      ],
      "execution_count": 11,
      "outputs": [
        {
          "output_type": "execute_result",
          "data": {
            "application/vnd.google.colaboratory.intrinsic+json": {
              "type": "string"
            },
            "text/plain": [
              "'Barack Hussein Obama II[a] (born August 4, 1961) is an American politician and attorney who served as the 44th president of the United States from 2009 to 2017. Obama received national attention in 2004 with his March Senate primary win, his well-received July Democratic National Convention keynote address, and his landslide November election to the Senate. In 2008, he was nominated by the Democratic Party for president a year after his presidential campaign began, and after a close primary campaign against Hillary Clinton, Obama was elected over Republican nominee John McCain and was inaugurated alongside his running mate, Joe Biden, on January 20, 2009.'"
            ]
          },
          "metadata": {
            "tags": []
          },
          "execution_count": 11
        }
      ]
    },
    {
      "cell_type": "markdown",
      "metadata": {
        "id": "FZEy1vbAYTVj"
      },
      "source": [
        "This is a really good summary of the text about the former president of the U.S., Barrack Obama."
      ]
    }
  ]
}