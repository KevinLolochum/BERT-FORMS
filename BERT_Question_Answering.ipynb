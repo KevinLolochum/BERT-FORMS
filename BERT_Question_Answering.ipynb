{
  "nbformat": 4,
  "nbformat_minor": 0,
  "metadata": {
    "colab": {
      "name": "BERT- Question Answering",
      "provenance": [],
      "authorship_tag": "ABX9TyO9bIAFdJFtBErPcoLzYsgs",
      "include_colab_link": true
    },
    "kernelspec": {
      "name": "python3",
      "display_name": "Python 3"
    }
  },
  "cells": [
    {
      "cell_type": "markdown",
      "metadata": {
        "id": "view-in-github",
        "colab_type": "text"
      },
      "source": [
        "<a href=\"https://colab.research.google.com/github/KevinLolochum/BERT-MODELS/blob/main/BERT_Question_Answering.ipynb\" target=\"_parent\"><img src=\"https://colab.research.google.com/assets/colab-badge.svg\" alt=\"Open In Colab\"/></a>"
      ]
    },
    {
      "cell_type": "markdown",
      "metadata": {
        "id": "V_YTYbFn0FRL"
      },
      "source": [
        "**BERT Extracitve Question Answering in PyTorch**"
      ]
    },
    {
      "cell_type": "markdown",
      "metadata": {
        "id": "anfn92YJqK6s"
      },
      "source": [
        "Is the task of answering questions given a large text that contains the answer in it."
      ]
    },
    {
      "cell_type": "markdown",
      "metadata": {
        "id": "rPoexZG8L9w8"
      },
      "source": [
        "Install transformers Library"
      ]
    },
    {
      "cell_type": "code",
      "metadata": {
        "id": "YD2QijQuMC2l"
      },
      "source": [
        "!pip install transformers"
      ],
      "execution_count": null,
      "outputs": []
    },
    {
      "cell_type": "markdown",
      "metadata": {
        "id": "phCxmwEPMQlS"
      },
      "source": [
        "Import important libraries"
      ]
    },
    {
      "cell_type": "code",
      "metadata": {
        "id": "PcbluAigMPqq"
      },
      "source": [
        "import numpy as np\n",
        "import pandas as pd\n",
        "import torch\n",
        "import tensorflow_datasets as tfds\n",
        "from transformers import BertForQuestionAnswering, BertTokenizer"
      ],
      "execution_count": 3,
      "outputs": []
    },
    {
      "cell_type": "markdown",
      "metadata": {
        "id": "xCoNhapm0pso"
      },
      "source": [
        "***1. Downloading and Exploring the data***"
      ]
    },
    {
      "cell_type": "markdown",
      "metadata": {
        "id": "ODojJHSsWbhr"
      },
      "source": [
        "Import the **S**tanford **Qu**estion**A**nswering **D**ataset (**SQuAD**)\n",
        "\n",
        "You can explore the dataset [here](https://rajpurkar.github.io/SQuAD-explorer/explore/1.1/dev/), download on tfds or Kaggle.\n",
        "\n",
        "SQuaD 1.1 contains over 100,000 question-answer pairs on 500+ articles. In SQuAD dataset, a single sample consists of a paragraph and a set questions. The goal is to find, for each question, a span of text in a paragraph that answers that question. Model performance is measured as the percentage of predictions that closely match any of the ground-truth answers."
      ]
    },
    {
      "cell_type": "code",
      "metadata": {
        "id": "-CtbdbsMtEbI",
        "outputId": "eb75b4fe-5463-4162-845b-303e69b71b5e",
        "colab": {
          "base_uri": "https://localhost:8080/"
        }
      },
      "source": [
        "from google.colab import drive\n",
        "\n",
        "drive.mount('/content/gdrive')"
      ],
      "execution_count": 37,
      "outputs": [
        {
          "output_type": "stream",
          "text": [
            "Mounted at /content/gdrive\n"
          ],
          "name": "stdout"
        }
      ]
    },
    {
      "cell_type": "code",
      "metadata": {
        "id": "tlhI4lZWt_DM"
      },
      "source": [
        "# Downloading from drive\n",
        "df = pd.read_csv('/content/gdrive/My Drive/SQuAD.csv')"
      ],
      "execution_count": 78,
      "outputs": []
    },
    {
      "cell_type": "code",
      "metadata": {
        "id": "j2XFHK23vG2T",
        "outputId": "e8abd654-3f1d-4c45-ae01-db1a7946aa1b",
        "colab": {
          "base_uri": "https://localhost:8080/"
        }
      },
      "source": [
        "print(f'shape: {df.shape}:\\n\\n Null values: {df.isna().sum()}')"
      ],
      "execution_count": 54,
      "outputs": [
        {
          "output_type": "stream",
          "text": [
            "shape: (86821, 6):\n",
            "\n",
            " Null values: Unnamed: 0      0\n",
            "context         0\n",
            "question        0\n",
            "id              0\n",
            "answer_start    0\n",
            "text            1\n",
            "dtype: int64\n"
          ],
          "name": "stdout"
        }
      ]
    },
    {
      "cell_type": "code",
      "metadata": {
        "id": "thsY7wjnxNI7",
        "outputId": "f011ac81-0293-4a3d-c258-7a8afd033834",
        "colab": {
          "base_uri": "https://localhost:8080/",
          "height": 107
        }
      },
      "source": [
        "df.head(2)"
      ],
      "execution_count": 49,
      "outputs": [
        {
          "output_type": "execute_result",
          "data": {
            "text/html": [
              "<div>\n",
              "<style scoped>\n",
              "    .dataframe tbody tr th:only-of-type {\n",
              "        vertical-align: middle;\n",
              "    }\n",
              "\n",
              "    .dataframe tbody tr th {\n",
              "        vertical-align: top;\n",
              "    }\n",
              "\n",
              "    .dataframe thead th {\n",
              "        text-align: right;\n",
              "    }\n",
              "</style>\n",
              "<table border=\"1\" class=\"dataframe\">\n",
              "  <thead>\n",
              "    <tr style=\"text-align: right;\">\n",
              "      <th></th>\n",
              "      <th>Unnamed: 0</th>\n",
              "      <th>context</th>\n",
              "      <th>question</th>\n",
              "      <th>id</th>\n",
              "      <th>answer_start</th>\n",
              "      <th>text</th>\n",
              "    </tr>\n",
              "  </thead>\n",
              "  <tbody>\n",
              "    <tr>\n",
              "      <th>0</th>\n",
              "      <td>0</td>\n",
              "      <td>Beyoncé Giselle Knowles-Carter (/biːˈjɒnseɪ/ b...</td>\n",
              "      <td>When did Beyonce start becoming popular?</td>\n",
              "      <td>56be85543aeaaa14008c9063</td>\n",
              "      <td>269</td>\n",
              "      <td>in the late 1990s</td>\n",
              "    </tr>\n",
              "    <tr>\n",
              "      <th>1</th>\n",
              "      <td>1</td>\n",
              "      <td>Beyoncé Giselle Knowles-Carter (/biːˈjɒnseɪ/ b...</td>\n",
              "      <td>What areas did Beyonce compete in when she was...</td>\n",
              "      <td>56be85543aeaaa14008c9065</td>\n",
              "      <td>207</td>\n",
              "      <td>singing and dancing</td>\n",
              "    </tr>\n",
              "  </tbody>\n",
              "</table>\n",
              "</div>"
            ],
            "text/plain": [
              "   Unnamed: 0  ...                 text\n",
              "0           0  ...    in the late 1990s\n",
              "1           1  ...  singing and dancing\n",
              "\n",
              "[2 rows x 6 columns]"
            ]
          },
          "metadata": {
            "tags": []
          },
          "execution_count": 49
        }
      ]
    },
    {
      "cell_type": "markdown",
      "metadata": {
        "id": "5fNCh7AZ3r2N"
      },
      "source": [
        "\n",
        "\n",
        "* Data has a 86821 examples and 6 columns\n",
        "*  Data looks pretty clean (no null values)\n",
        "* From a slice of the data above the stanford dataset has anan id, context, question, an answer_start and a question.\n",
        "* The answers_start is the starting word position for the correct answer to each question based on the context.\n",
        "* The text is the name of the answer to the question.\n",
        "* For simplicity I will make the dataset smaller for our model training.\n",
        "\n",
        "\n",
        "\n"
      ]
    },
    {
      "cell_type": "code",
      "metadata": {
        "id": "krhZIXAWy_KI",
        "outputId": "ce2f6220-41ab-41f5-fc6f-08a7a4aaf496",
        "colab": {
          "base_uri": "https://localhost:8080/"
        }
      },
      "source": [
        "# Taking few examples.\n",
        "\n",
        "df =  df.iloc[:10000, 1:]\n",
        "df.shape"
      ],
      "execution_count": 79,
      "outputs": [
        {
          "output_type": "execute_result",
          "data": {
            "text/plain": [
              "(10000, 5)"
            ]
          },
          "metadata": {
            "tags": []
          },
          "execution_count": 79
        }
      ]
    },
    {
      "cell_type": "markdown",
      "metadata": {
        "id": "PGfj3Bhn9nUJ"
      },
      "source": [
        "***FYI***\n",
        "\n",
        "\n",
        "* Here is a quick example of how you could use another powerful model from transformers called [pipeline models](https://huggingface.co/transformers/task_summary.html),  [source code](https://huggingface.co/transformers/_modules/transformers/pipelines.html#QuestionAnsweringPipeline.__call__).\n",
        "* I have mentioned this model because it was specifically fine tuned on SQuAD and is very powerful for this tasks.\n",
        "* As you can see it got the answer right for the first entry and is even more precise than the given answer.\n",
        "\n"
      ]
    },
    {
      "cell_type": "code",
      "metadata": {
        "id": "0zT-TdOIHBMu",
        "outputId": "6c4b64b5-53ac-4695-9b36-1763fbc00829",
        "colab": {
          "base_uri": "https://localhost:8080/"
        }
      },
      "source": [
        "from transformers import pipeline\n",
        "import warnings\n",
        "warnings.filterwarnings('ignore')\n",
        "\n",
        "\n",
        "nlp = pipeline(\"question-answering\")\n",
        "\n",
        "example = df.iloc[0]\n",
        "result = nlp(question=example['question'], context= example['context'])\n",
        "print(f\"Answer: '{result['answer']}', score: {round(result['score'], 4)}, start: {result['start']}, end: {result['end']}\");"
      ],
      "execution_count": 87,
      "outputs": [
        {
          "output_type": "stream",
          "text": [
            "Answer: 'late 1990s', score: 0.4887, start: 276, end: 286\n"
          ],
          "name": "stdout"
        }
      ]
    },
    {
      "cell_type": "markdown",
      "metadata": {
        "id": "XrTUpxGQNj0M"
      },
      "source": [
        "***3.Instantiating the model***"
      ]
    },
    {
      "cell_type": "code",
      "metadata": {
        "id": "AgoeEtmaNiW7"
      },
      "source": [
        "# Using BERT cased model\n",
        "MODEL = 'bert-base-cased'\n",
        "\n",
        "Tokenizer = BertTokenizer.from_pretrained(MODEL)\n",
        "Model = BertForQuestionAnswering.from_pretrained(MODEL, return_dict = True)\n"
      ],
      "execution_count": null,
      "outputs": []
    },
    {
      "cell_type": "markdown",
      "metadata": {
        "id": "HCXBwyDxl7_V"
      },
      "source": [
        "***4. Preparing inputs for our model***\n",
        "\n",
        "Inputs/parameters. Here are the [explanations](https://huggingface.co/transformers/glossary.html#attention-mask) of what these paramenters represent.\n",
        "\n",
        "*  input_ids - Ids of word embeddings\n",
        "*  attention_masks - Values to point inputs that should be attended to, i.e inputs that are not paddings.\n",
        "*  input_type_ids - Classification and separation tokens.\n",
        "*  segment_ids - Whether the segment is a question or an answer.\n",
        "\n"
      ]
    },
    {
      "cell_type": "code",
      "metadata": {
        "id": "DOE5VtJr8nqG"
      },
      "source": [
        "for entry in example:\n",
        "  context = \" \".join(str(example.context).split())\n",
        "  question = \" \".join(str(example.question).split())\n",
        "\n",
        "  inputs = Tokenizer(question, context, add_special_tokens=True, return_tensors=\"pt\")\n",
        "  input_ids = inputs[\"input_ids\"].tolist()[0]\n",
        "\n",
        "  text_tokens = Tokenizer.convert_ids_to_tokens(input_ids)\n",
        "  answer_start_scores, answer_end_scores = Model(**inputs)\n",
        "\n",
        "  answer_start = torch.argmax(answer_start_scores)\n",
        "          # Get the most likely beginning of answer with the argmax of the score\n",
        "  answer_end = torch.argmax(answer_end_scores) + 1  # Get the most likely end of answer with the argmax of the score\n",
        "\n",
        "  answer = Tokenizer.convert_tokens_to_string(Tokenizer.convert_ids_to_tokens(input_ids[answer_start:answer_end]))\n",
        "\n",
        "  print(f\"Question: {question}\")\n",
        "  print(f\"Answer: {answer}\")"
      ],
      "execution_count": null,
      "outputs": []
    },
    {
      "cell_type": "code",
      "metadata": {
        "id": "-UAl2Ox3MXZM"
      },
      "source": [
        "context = \" \".join(str(example.context).split())\n",
        "question = \" \".join(str(example.question).split())\n",
        "\n",
        "inputs = Tokenizer(question, context, add_special_tokens=True, return_tensors=\"pt\")\n",
        "input_ids = inputs[\"input_ids\"].tolist()[0]\n",
        "\n",
        "text_tokens = Tokenizer.convert_ids_to_tokens(input_ids)\n",
        "answer_start_scores, answer_end_scores = Model(**inputs)\n",
        "\n",
        "answer_end_scores"
      ],
      "execution_count": null,
      "outputs": []
    },
    {
      "cell_type": "markdown",
      "metadata": {
        "id": "3hVX3hvVItOK"
      },
      "source": [
        ""
      ]
    },
    {
      "cell_type": "code",
      "metadata": {
        "id": "sZgps2EBIvk1"
      },
      "source": [
        "    #Outputs from the model\n",
        "        return QuestionAnsweringModelOutput(\n",
        "            loss=total_loss,\n",
        "            start_logits=start_logits,\n",
        "            end_logits=end_logits,\n",
        "            hidden_states=outputs.hidden_states,\n",
        "            attentions=outputs.attentions,"
      ],
      "execution_count": null,
      "outputs": []
    },
    {
      "cell_type": "markdown",
      "metadata": {
        "id": "6_tUgOwfnvrW"
      },
      "source": [
        "Training and evaluation using Hugging face trainer. [Trainer](https://huggingface.co/transformers/training.html#trainer),  [Source Code](https://huggingface.co/transformers/_modules/transformers/trainer.html#Trainer)."
      ]
    },
    {
      "cell_type": "code",
      "metadata": {
        "id": "2HrLIVnFuQF9"
      },
      "source": [
        "# Using hugging face trainer.\n",
        "# trainer.train() to train and trainer.evaluate() to evaluate.\n",
        "\n",
        "from transformers import Trainer\n",
        "\n",
        "training_args = TrainingArguments(\n",
        "    output_dir='./results',          # output directory\n",
        "    num_train_epochs=3,              # total # of training epochs\n",
        "    per_device_train_batch_size=16,  # batch size per device during training\n",
        "    per_device_eval_batch_size=64,   # batch size for evaluation\n",
        "    warmup_steps=500,                # number of warmup steps for learning rate scheduler\n",
        "    weight_decay=0.01,               # strength of weight decay\n",
        "    logging_dir='./logs',            # directory for storing logs\n",
        ")\n",
        "\n",
        "trainer = Trainer(\n",
        "    model=model,                         # the instantiated 🤗 Transformers model to be trained\n",
        "    args=training_args,                  # training arguments, defined above\n",
        "    train_dataset=train_dataset,         # training dataset\n",
        "    eval_dataset=test_dataset            # evaluation dataset\n",
        ")"
      ],
      "execution_count": null,
      "outputs": []
    }
  ]
}