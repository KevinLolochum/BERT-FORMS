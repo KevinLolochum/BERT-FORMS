{
  "nbformat": 4,
  "nbformat_minor": 0,
  "metadata": {
    "colab": {
      "name": "BERT- Question Answering",
      "provenance": [],
      "authorship_tag": "ABX9TyOcGoyZdzYBIY5qw5KQ6UHb",
      "include_colab_link": true
    },
    "kernelspec": {
      "name": "python3",
      "display_name": "Python 3"
    },
    "accelerator": "GPU"
  },
  "cells": [
    {
      "cell_type": "markdown",
      "metadata": {
        "id": "view-in-github",
        "colab_type": "text"
      },
      "source": [
        "<a href=\"https://colab.research.google.com/github/KevinLolochum/BERT-MODELS/blob/main/BERT_Question_Answering.ipynb\" target=\"_parent\"><img src=\"https://colab.research.google.com/assets/colab-badge.svg\" alt=\"Open In Colab\"/></a>"
      ]
    },
    {
      "cell_type": "markdown",
      "metadata": {
        "id": "V_YTYbFn0FRL"
      },
      "source": [
        "**BERT Extracitve Question Answering in PyTorch**"
      ]
    },
    {
      "cell_type": "markdown",
      "metadata": {
        "id": "anfn92YJqK6s"
      },
      "source": [
        "Is the task of answering questions given a large text that contains the answer in it."
      ]
    },
    {
      "cell_type": "markdown",
      "metadata": {
        "id": "rPoexZG8L9w8"
      },
      "source": [
        "Install transformers Library"
      ]
    },
    {
      "cell_type": "code",
      "metadata": {
        "id": "YD2QijQuMC2l"
      },
      "source": [
        "!pip install transformers"
      ],
      "execution_count": null,
      "outputs": []
    },
    {
      "cell_type": "markdown",
      "metadata": {
        "id": "phCxmwEPMQlS"
      },
      "source": [
        "Import important libraries"
      ]
    },
    {
      "cell_type": "code",
      "metadata": {
        "id": "PcbluAigMPqq"
      },
      "source": [
        "import numpy as np\n",
        "import pandas as pd\n",
        "import torch\n",
        "import tensorflow_datasets as tfds\n",
        "from transformers import BertForQuestionAnswering, BertTokenizer"
      ],
      "execution_count": 20,
      "outputs": []
    },
    {
      "cell_type": "markdown",
      "metadata": {
        "id": "xCoNhapm0pso"
      },
      "source": [
        "***1. Downloading and Exploring the data***"
      ]
    },
    {
      "cell_type": "markdown",
      "metadata": {
        "id": "ODojJHSsWbhr"
      },
      "source": [
        "Import the **S**tanford **Qu**estion**A**nswering **D**ataset (**SQuAD**)\n",
        "\n",
        "You can explore the dataset [here](https://rajpurkar.github.io/SQuAD-explorer/explore/1.1/dev/), download on tfds or Kaggle.\n",
        "* SQuaD 1.1 contains over 100,000 question-answer pairs on 500+ articles.\n",
        "* In SQuAD dataset, a single sample consists of a paragraph and a set questions. \n",
        "* The goal is to find, for each question, a span of text in a paragraph that answers that question.\n",
        "* Model performance is measured as the percentage of predictions that closely match any of the ground-truth answers."
      ]
    },
    {
      "cell_type": "code",
      "metadata": {
        "id": "-CtbdbsMtEbI"
      },
      "source": [
        "from google.colab import drive\n",
        "\n",
        "drive.mount('/content/gdrive')"
      ],
      "execution_count": null,
      "outputs": []
    },
    {
      "cell_type": "code",
      "metadata": {
        "id": "tlhI4lZWt_DM"
      },
      "source": [
        "# Downloading from drive\n",
        "df = pd.read_csv('/content/gdrive/My Drive/SQuAD.csv')"
      ],
      "execution_count": 5,
      "outputs": []
    },
    {
      "cell_type": "code",
      "metadata": {
        "colab": {
          "base_uri": "https://localhost:8080/"
        },
        "id": "j2XFHK23vG2T",
        "outputId": "cb404632-5243-4f90-aa3e-1150bba324af"
      },
      "source": [
        "#Checking shape and null values\n",
        "print(f'shape: {df.shape}:\\n\\n Null values: {df.isna().sum()}')"
      ],
      "execution_count": 6,
      "outputs": [
        {
          "output_type": "stream",
          "text": [
            "shape: (86821, 6):\n",
            "\n",
            " Null values: Unnamed: 0      0\n",
            "context         0\n",
            "question        0\n",
            "id              0\n",
            "answer_start    0\n",
            "text            1\n",
            "dtype: int64\n"
          ],
          "name": "stdout"
        }
      ]
    },
    {
      "cell_type": "code",
      "metadata": {
        "colab": {
          "base_uri": "https://localhost:8080/",
          "height": 107
        },
        "id": "thsY7wjnxNI7",
        "outputId": "4672f446-217b-42a5-cc15-45cfe9582822"
      },
      "source": [
        "df.head(2)"
      ],
      "execution_count": 7,
      "outputs": [
        {
          "output_type": "execute_result",
          "data": {
            "text/html": [
              "<div>\n",
              "<style scoped>\n",
              "    .dataframe tbody tr th:only-of-type {\n",
              "        vertical-align: middle;\n",
              "    }\n",
              "\n",
              "    .dataframe tbody tr th {\n",
              "        vertical-align: top;\n",
              "    }\n",
              "\n",
              "    .dataframe thead th {\n",
              "        text-align: right;\n",
              "    }\n",
              "</style>\n",
              "<table border=\"1\" class=\"dataframe\">\n",
              "  <thead>\n",
              "    <tr style=\"text-align: right;\">\n",
              "      <th></th>\n",
              "      <th>Unnamed: 0</th>\n",
              "      <th>context</th>\n",
              "      <th>question</th>\n",
              "      <th>id</th>\n",
              "      <th>answer_start</th>\n",
              "      <th>text</th>\n",
              "    </tr>\n",
              "  </thead>\n",
              "  <tbody>\n",
              "    <tr>\n",
              "      <th>0</th>\n",
              "      <td>0</td>\n",
              "      <td>Beyoncé Giselle Knowles-Carter (/biːˈjɒnseɪ/ b...</td>\n",
              "      <td>When did Beyonce start becoming popular?</td>\n",
              "      <td>56be85543aeaaa14008c9063</td>\n",
              "      <td>269</td>\n",
              "      <td>in the late 1990s</td>\n",
              "    </tr>\n",
              "    <tr>\n",
              "      <th>1</th>\n",
              "      <td>1</td>\n",
              "      <td>Beyoncé Giselle Knowles-Carter (/biːˈjɒnseɪ/ b...</td>\n",
              "      <td>What areas did Beyonce compete in when she was...</td>\n",
              "      <td>56be85543aeaaa14008c9065</td>\n",
              "      <td>207</td>\n",
              "      <td>singing and dancing</td>\n",
              "    </tr>\n",
              "  </tbody>\n",
              "</table>\n",
              "</div>"
            ],
            "text/plain": [
              "   Unnamed: 0  ...                 text\n",
              "0           0  ...    in the late 1990s\n",
              "1           1  ...  singing and dancing\n",
              "\n",
              "[2 rows x 6 columns]"
            ]
          },
          "metadata": {
            "tags": []
          },
          "execution_count": 7
        }
      ]
    },
    {
      "cell_type": "markdown",
      "metadata": {
        "id": "5fNCh7AZ3r2N"
      },
      "source": [
        "\n",
        "\n",
        "* Data has a 86821 examples and 6 columns\n",
        "*  Data looks pretty clean (no null values)\n",
        "* From a slice of the data above the stanford dataset has an id, context, question, an answer_start and a text(answer) columns.\n",
        "* The answers_start is the starting word position for the correct answer to each question based on the context.\n",
        "* For simplicity I will make the dataset smaller for our model training.\n",
        "\n",
        "\n",
        "\n"
      ]
    },
    {
      "cell_type": "code",
      "metadata": {
        "colab": {
          "base_uri": "https://localhost:8080/"
        },
        "id": "krhZIXAWy_KI",
        "outputId": "dc2d7563-e216-4675-d186-f9b9d6452e3c"
      },
      "source": [
        "# Taking five thousand examples.\n",
        "\n",
        "df =  df.iloc[:5000, 1:]\n",
        "df.shape"
      ],
      "execution_count": 8,
      "outputs": [
        {
          "output_type": "execute_result",
          "data": {
            "text/plain": [
              "(5000, 5)"
            ]
          },
          "metadata": {
            "tags": []
          },
          "execution_count": 8
        }
      ]
    },
    {
      "cell_type": "markdown",
      "metadata": {
        "id": "PGfj3Bhn9nUJ"
      },
      "source": [
        "***FYI***\n",
        "\n",
        "\n",
        "* Here is a quick example of how you could use another powerful model from transformers called [pipeline models](https://huggingface.co/transformers/task_summary.html),  [source code](https://huggingface.co/transformers/_modules/transformers/pipelines.html#QuestionAnsweringPipeline.__call__).\n",
        "* I have mentioned this model because it was specifically fine tuned on SQuAD and is very powerful for this tasks.\n",
        "* As you can see it got the answer right for the first entry and is even more precise than the given answer.\n",
        "\n"
      ]
    },
    {
      "cell_type": "code",
      "metadata": {
        "colab": {
          "base_uri": "https://localhost:8080/"
        },
        "id": "0zT-TdOIHBMu",
        "outputId": "554bb487-b98e-444a-8c1f-4bdb32146308"
      },
      "source": [
        "from transformers import pipeline\n",
        "import warnings\n",
        "warnings.filterwarnings('ignore')\n",
        "\n",
        "\n",
        "nlp = pipeline(\"question-answering\")\n",
        "\n",
        "example = df.iloc[0]\n",
        "result = nlp(question=example['question'], context= example['context'])\n",
        "print(f\"question: '{example['question']}', \\n 'Model_Answer: '{result['answer']}', 'Actual_Answer: '{example['text']}', score: {round(result['score'], 4)}, start: {result['start']}, end: {result['end']}\");"
      ],
      "execution_count": 10,
      "outputs": [
        {
          "output_type": "stream",
          "text": [
            "question: 'When did Beyonce start becoming popular?', \n",
            " 'Model_Answer: 'late 1990s', 'Actual_Answer: 'in the late 1990s', score: 0.4887, start: 276, end: 286\n"
          ],
          "name": "stdout"
        }
      ]
    },
    {
      "cell_type": "markdown",
      "metadata": {
        "id": "XrTUpxGQNj0M"
      },
      "source": [
        "***3.Instantiating the model***"
      ]
    },
    {
      "cell_type": "markdown",
      "metadata": {
        "id": "ODMlIEyBesTZ"
      },
      "source": [
        "\n",
        "\n",
        "* I am loading a pre-finetuned model.\n",
        "\n"
      ]
    },
    {
      "cell_type": "code",
      "metadata": {
        "id": "AgoeEtmaNiW7"
      },
      "source": [
        "# We will be using the Bert-large-cased model, that has been fine tuned on SQuAD.\n",
        "# Model has 340 M parameters\n",
        "MODEL = \"bert-large-uncased-whole-word-masking-finetuned-squad\"\n",
        "\n",
        "Tokenizer = BertTokenizer.from_pretrained(MODEL)\n",
        "Model = BertForQuestionAnswering.from_pretrained(MODEL, return_dict = True)\n"
      ],
      "execution_count": 26,
      "outputs": []
    },
    {
      "cell_type": "markdown",
      "metadata": {
        "id": "HCXBwyDxl7_V"
      },
      "source": [
        "***4. Preparing inputs for our model***\n",
        "\n",
        "**Inputs/parameters**. Here are the [explanations](https://huggingface.co/transformers/glossary.html#attention-mask) of what these paramenters represent.\n",
        "\n",
        "*  input_ids - Ids of word embeddings\n",
        "*  attention_masks - Values to point inputs that should be attended to, i.e inputs that are not paddings.\n",
        "*  input_type_ids - Classification and separation tokens.\n",
        "*  segment_ids - Whether the segment is a question or an answer.\n",
        "\n",
        "**outputs**\n",
        "* Start_logits - probabilities that the start value is an input_id x. (torch.FloatTensor of shape (batch_size, sequence_length)) – Span-start scores (before SoftMax)\n",
        "* End_logits - Probabilities that the end value is an input_id x. (torch.FloatTensor of shape (batch_size, sequence_length)) – Span-start scores (before SoftMax)\n",
        "* Other return values are loss (cross enhropy loss). Hidden states and attention heads when specified.\n",
        "\n",
        "\n",
        "\n",
        "\n"
      ]
    },
    {
      "cell_type": "code",
      "metadata": {
        "id": "DOE5VtJr8nqG",
        "outputId": "bb7c3936-872c-4836-cb97-903e2f17d39e",
        "colab": {
          "base_uri": "https://localhost:8080/"
        }
      },
      "source": [
        "# Def a train function\n",
        "examples = df.iloc[0:5]\n",
        "\n",
        "for i in range(len(examples)):\n",
        "  context = examples.iloc[i]['context']\n",
        "  question = examples.iloc[i]['question']\n",
        "  \n",
        "  inputs = Tokenizer.encode_plus(question, context,\n",
        "                               add_special_tokens=True,\n",
        "                               return_tensors=\"pt\",\n",
        "                               padding = True)\n",
        "  input_ids = inputs[\"input_ids\"].tolist()[0]\n",
        "\n",
        "  text_tokens = Tokenizer.convert_ids_to_tokens(input_ids)\n",
        "  Outputs = Model(**inputs)\n",
        "\n",
        "  answer_start = torch.argmax(Outputs.start_logits)  # The most likely beginning of the answer\n",
        "  answer_end = torch.argmax(Outputs.end_logits)  # The most likely end of answer\n",
        "\n",
        "  answer = Tokenizer.convert_tokens_to_string(Tokenizer.convert_ids_to_tokens(input_ids[answer_start:(answer_end+1)]))\n",
        "\n",
        "  print(f\"Question: {question}\")\n",
        "  print(f\"Model_Answer: {answer},\\n'True_answer': {examples.iloc[i]['text']}\")\n",
        "\n",
        "\n",
        "\n"
      ],
      "execution_count": 52,
      "outputs": [
        {
          "output_type": "stream",
          "text": [
            "Question: When did Beyonce start becoming popular?\n",
            "Model_Answer: late 1990s,\n",
            "'True_answer': in the late 1990s\n",
            "Question: What areas did Beyonce compete in when she was growing up?\n",
            "Model_Answer: singing and dancing,\n",
            "'True_answer': singing and dancing\n",
            "Question: When did Beyonce leave Destiny's Child and become a solo singer?\n",
            "Model_Answer: 2003,\n",
            "'True_answer': 2003\n",
            "Question: In what city and state did Beyonce  grow up? \n",
            "Model_Answer: houston,\n",
            "'True_answer': Houston, Texas\n",
            "Question: In which decade did Beyonce become famous?\n",
            "Model_Answer: 1990s,\n",
            "'True_answer': late 1990s\n"
          ],
          "name": "stdout"
        }
      ]
    },
    {
      "cell_type": "markdown",
      "metadata": {
        "id": "thcznmE7U8pH"
      },
      "source": [
        "As you can see our model does great in answering the five questions above."
      ]
    },
    {
      "cell_type": "markdown",
      "metadata": {
        "id": "6_tUgOwfnvrW"
      },
      "source": [
        "Training and evaluation using Hugging face trainer. [Trainer](https://huggingface.co/transformers/training.html#trainer),  [Source Code](https://huggingface.co/transformers/_modules/transformers/trainer.html#Trainer)."
      ]
    },
    {
      "cell_type": "code",
      "metadata": {
        "id": "2HrLIVnFuQF9"
      },
      "source": [
        "# Using hugging face trainer.\n",
        "# trainer.train() to train and trainer.evaluate() to evaluate.\n",
        "\n",
        "from transformers import Trainer\n",
        "\n",
        "training_args = TrainingArguments(\n",
        "    output_dir='./results',          # output directory\n",
        "    num_train_epochs=3,              # total # of training epochs\n",
        "    per_device_train_batch_size=16,  # batch size per device during training\n",
        "    per_device_eval_batch_size=64,   # batch size for evaluation\n",
        "    warmup_steps=500,                # number of warmup steps for learning rate scheduler\n",
        "    weight_decay=0.01,               # strength of weight decay\n",
        "    logging_dir='./logs',            # directory for storing logs\n",
        ")\n",
        "\n",
        "trainer = Trainer(\n",
        "    model=model,                         # the instantiated 🤗 Transformers model to be trained\n",
        "    args=training_args,                  # training arguments, defined above\n",
        "    train_dataset=train_dataset,         # training dataset\n",
        "    eval_dataset=test_dataset            # evaluation dataset\n",
        ")"
      ],
      "execution_count": null,
      "outputs": []
    }
  ]
}