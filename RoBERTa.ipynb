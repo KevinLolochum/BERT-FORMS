{
  "nbformat": 4,
  "nbformat_minor": 0,
  "metadata": {
    "colab": {
      "name": "RoBERTa",
      "provenance": [],
      "collapsed_sections": [],
      "authorship_tag": "ABX9TyNr+R9CLJBRXVlVS8YMTgL8",
      "include_colab_link": true
    },
    "kernelspec": {
      "name": "python3",
      "display_name": "Python 3"
    }
  },
  "cells": [
    {
      "cell_type": "markdown",
      "metadata": {
        "id": "view-in-github",
        "colab_type": "text"
      },
      "source": [
        "<a href=\"https://colab.research.google.com/github/KevinLolochum/BERT-MODELS/blob/main/RoBERTa.ipynb\" target=\"_parent\"><img src=\"https://colab.research.google.com/assets/colab-badge.svg\" alt=\"Open In Colab\"/></a>"
      ]
    },
    {
      "cell_type": "markdown",
      "metadata": {
        "id": "ULhT7DaqrJ_A"
      },
      "source": [
        "**THEORY**\n",
        "* [Paper](https://arxiv.org/abs/1907.11692)\n",
        "*   **RoBERTa** **R**obustly **O**ptimized **BERT** pretraining **A**pproach is an improvement of the BERT model discussed [here](https://github.com/KevinLolochum/BERT-MODELS/blob/main/Vanilla_BERT.ipynb). \n",
        "*  RoBERTa has the same **architecture** as BERT 12 layers (transformer blocks encoder blocks), 768 hidden size, 12 attention heads, and 110 million parameters.\n",
        "- It **makes changes** in pre-training procedures that were not considered important when pre_training BERT.\n",
        "-  Instead of using pretraining on the pretraining on MLM and NSP, RoBERTA does **not** use **NSP** and use **dynamic masking** instead of  static masking used in BERT\n",
        "*  **Other changes include.**\n",
        "- **RoBERTa** uses **larger batches and data** during pretraining hence less steps and longer trianing time compared to **BERT** but comparable to after BERT models like **XLNet**\n",
        "- Longer sentence sequences where also used compared to those used in BERT that are truncated at 512 tokens. (i.e full-sentence)\n",
        "- It also uses byte-pair encoding **(BPE)** which uses subwords to create embeddings and therefore reducing the vocabulary size that is normally huge in large corpora.\n",
        "- For **GLUE tasks**, RoBERTa uses single task fine_tuning for each task as opposed to multi-task finetununing that is common in the GLUE leaderboard.\n",
        "- For **SQuAD** RoBERTa uses only the squad dataset and does not augment with additional questions like in BERT and XLNet\n",
        "- It achieves state-of-the-art results in 4 of 9 GLUE leaderboard tasks and outperforms BERT and XLNet on SQuAD.\n"
      ]
    },
    {
      "cell_type": "markdown",
      "metadata": {
        "id": "qzpiX2HcqH3Q"
      },
      "source": [
        "**Pros**\n",
        "* Performs better than most transformer models like BERT and XLNet on most GLUE and SQUAD.\n",
        "* Similar parameters as BERT therefore is faster than other larger parameter models like BART.\n",
        "- For the same amount of data it has the same computational requirements as BERT.\n",
        "\n",
        "**Cons**\n",
        "* Uses a lot more compute power when training compared to BERT and DistilBert because of the larger data.\n",
        "\n",
        "**Good at**\n",
        "*  Natural language Inference\n",
        "*  Question answering\n",
        "\n",
        "\n",
        "**Training and inference time**\n",
        "* Slower than BERT and DistilBERT\n",
        "\n",
        "\n",
        "\n"
      ]
    }
  ]
}