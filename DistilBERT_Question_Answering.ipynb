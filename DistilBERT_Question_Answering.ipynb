{
  "nbformat": 4,
  "nbformat_minor": 0,
  "metadata": {
    "colab": {
      "name": "DistilBERT- Question Answering",
      "provenance": [],
      "authorship_tag": "ABX9TyOz5bfzQz9+tnUnp4Rg2BFs",
      "include_colab_link": true
    },
    "kernelspec": {
      "name": "python3",
      "display_name": "Python 3"
    },
    "accelerator": "GPU"
  },
  "cells": [
    {
      "cell_type": "markdown",
      "metadata": {
        "id": "view-in-github",
        "colab_type": "text"
      },
      "source": [
        "<a href=\"https://colab.research.google.com/github/KevinLolochum/BERT-MODELS/blob/main/DistilBERT_Question_Answering.ipynb\" target=\"_parent\"><img src=\"https://colab.research.google.com/assets/colab-badge.svg\" alt=\"Open In Colab\"/></a>"
      ]
    },
    {
      "cell_type": "markdown",
      "metadata": {
        "id": "V_YTYbFn0FRL"
      },
      "source": [
        "**DistillBERT Extracitve Question Answering in PyTorch**"
      ]
    },
    {
      "cell_type": "markdown",
      "metadata": {
        "id": "anfn92YJqK6s"
      },
      "source": [
        "* Is the task of answering questions given a large text that contains the answer in it.\n",
        "* We are using DistilBERT in this example, a lighter, faster version of BERT. \n",
        "\n"
      ]
    },
    {
      "cell_type": "markdown",
      "metadata": {
        "id": "rPoexZG8L9w8"
      },
      "source": [
        "Install transformers Library"
      ]
    },
    {
      "cell_type": "code",
      "metadata": {
        "id": "YD2QijQuMC2l"
      },
      "source": [
        "!pip install transformers"
      ],
      "execution_count": null,
      "outputs": []
    },
    {
      "cell_type": "markdown",
      "metadata": {
        "id": "phCxmwEPMQlS"
      },
      "source": [
        "Import important libraries"
      ]
    },
    {
      "cell_type": "code",
      "metadata": {
        "id": "PcbluAigMPqq"
      },
      "source": [
        "import numpy as np\n",
        "import pandas as pd\n",
        "import torch\n",
        "from transformers import DistilBertForQuestionAnswering, DistilBertTokenizer"
      ],
      "execution_count": 2,
      "outputs": []
    },
    {
      "cell_type": "markdown",
      "metadata": {
        "id": "xCoNhapm0pso"
      },
      "source": [
        "***1. Downloading and Exploring the data***"
      ]
    },
    {
      "cell_type": "markdown",
      "metadata": {
        "id": "ODojJHSsWbhr"
      },
      "source": [
        "* I am using SQUAD question answering dataset again for consistency.\n",
        "\n",
        "* Import the **S**tanford **Qu**estion**A**nswering **D**ataset (**SQuAD**)\n",
        "\n",
        "* You can explore the dataset [here](https://rajpurkar.github.io/SQuAD-explorer/explore/1.1/dev/), download on tfds or Kaggle.\n",
        "* SQuaD 1.1 contains over 100,000 question-answer pairs on 500+ articles.\n",
        "* In SQuAD dataset, a single sample consists of a paragraph and a set questions. \n",
        "* The goal is to find, for each question, a span of text in a paragraph that answers that question.\n",
        "* Model performance is measured as the percentage of predictions that closely match any of the ground-truth answers."
      ]
    },
    {
      "cell_type": "code",
      "metadata": {
        "id": "-CtbdbsMtEbI",
        "colab": {
          "base_uri": "https://localhost:8080/"
        },
        "outputId": "078f61b5-40c5-4cfd-ae6c-22fe360bedfc"
      },
      "source": [
        "from google.colab import drive\n",
        "\n",
        "drive.mount('/content/gdrive')"
      ],
      "execution_count": 3,
      "outputs": [
        {
          "output_type": "stream",
          "text": [
            "Mounted at /content/gdrive\n"
          ],
          "name": "stdout"
        }
      ]
    },
    {
      "cell_type": "code",
      "metadata": {
        "id": "tlhI4lZWt_DM"
      },
      "source": [
        "# Downloading from drive\n",
        "df = pd.read_csv('/content/gdrive/My Drive/SQuAD.csv')"
      ],
      "execution_count": 4,
      "outputs": []
    },
    {
      "cell_type": "code",
      "metadata": {
        "colab": {
          "base_uri": "https://localhost:8080/"
        },
        "id": "j2XFHK23vG2T",
        "outputId": "3a699e3f-6345-48b8-b6c9-b540777dc4ea"
      },
      "source": [
        "#Checking shape and null values\n",
        "print(f'shape: {df.shape}:\\n\\n Null values: {df.isna().sum()}')"
      ],
      "execution_count": 5,
      "outputs": [
        {
          "output_type": "stream",
          "text": [
            "shape: (86821, 6):\n",
            "\n",
            " Null values: Unnamed: 0      0\n",
            "context         0\n",
            "question        0\n",
            "id              0\n",
            "answer_start    0\n",
            "text            1\n",
            "dtype: int64\n"
          ],
          "name": "stdout"
        }
      ]
    },
    {
      "cell_type": "code",
      "metadata": {
        "colab": {
          "base_uri": "https://localhost:8080/",
          "height": 107
        },
        "id": "thsY7wjnxNI7",
        "outputId": "4672f446-217b-42a5-cc15-45cfe9582822"
      },
      "source": [
        "df.head(2)"
      ],
      "execution_count": null,
      "outputs": [
        {
          "output_type": "execute_result",
          "data": {
            "text/html": [
              "<div>\n",
              "<style scoped>\n",
              "    .dataframe tbody tr th:only-of-type {\n",
              "        vertical-align: middle;\n",
              "    }\n",
              "\n",
              "    .dataframe tbody tr th {\n",
              "        vertical-align: top;\n",
              "    }\n",
              "\n",
              "    .dataframe thead th {\n",
              "        text-align: right;\n",
              "    }\n",
              "</style>\n",
              "<table border=\"1\" class=\"dataframe\">\n",
              "  <thead>\n",
              "    <tr style=\"text-align: right;\">\n",
              "      <th></th>\n",
              "      <th>Unnamed: 0</th>\n",
              "      <th>context</th>\n",
              "      <th>question</th>\n",
              "      <th>id</th>\n",
              "      <th>answer_start</th>\n",
              "      <th>text</th>\n",
              "    </tr>\n",
              "  </thead>\n",
              "  <tbody>\n",
              "    <tr>\n",
              "      <th>0</th>\n",
              "      <td>0</td>\n",
              "      <td>Beyoncé Giselle Knowles-Carter (/biːˈjɒnseɪ/ b...</td>\n",
              "      <td>When did Beyonce start becoming popular?</td>\n",
              "      <td>56be85543aeaaa14008c9063</td>\n",
              "      <td>269</td>\n",
              "      <td>in the late 1990s</td>\n",
              "    </tr>\n",
              "    <tr>\n",
              "      <th>1</th>\n",
              "      <td>1</td>\n",
              "      <td>Beyoncé Giselle Knowles-Carter (/biːˈjɒnseɪ/ b...</td>\n",
              "      <td>What areas did Beyonce compete in when she was...</td>\n",
              "      <td>56be85543aeaaa14008c9065</td>\n",
              "      <td>207</td>\n",
              "      <td>singing and dancing</td>\n",
              "    </tr>\n",
              "  </tbody>\n",
              "</table>\n",
              "</div>"
            ],
            "text/plain": [
              "   Unnamed: 0  ...                 text\n",
              "0           0  ...    in the late 1990s\n",
              "1           1  ...  singing and dancing\n",
              "\n",
              "[2 rows x 6 columns]"
            ]
          },
          "metadata": {
            "tags": []
          },
          "execution_count": 7
        }
      ]
    },
    {
      "cell_type": "markdown",
      "metadata": {
        "id": "5fNCh7AZ3r2N"
      },
      "source": [
        "\n",
        "\n",
        "* Data has a 86821 examples and 6 columns\n",
        "*  Data looks pretty clean (no null values)\n",
        "* From a slice of the data above the stanford dataset has an id, context, question, an answer_start and a text(answer) columns.\n",
        "* The answers_start is the starting word position for the correct answer to each question based on the context.\n",
        "* For simplicity I will make the dataset smaller for our model training.\n",
        "\n",
        "\n",
        "\n"
      ]
    },
    {
      "cell_type": "code",
      "metadata": {
        "colab": {
          "base_uri": "https://localhost:8080/"
        },
        "id": "krhZIXAWy_KI",
        "outputId": "095de9c5-7e99-43ce-fce3-87b04c3c43e2"
      },
      "source": [
        "# Taking five thousand examples.\n",
        "\n",
        "df =  df.iloc[:5000, 1:]\n",
        "df.shape"
      ],
      "execution_count": 6,
      "outputs": [
        {
          "output_type": "execute_result",
          "data": {
            "text/plain": [
              "(5000, 5)"
            ]
          },
          "metadata": {
            "tags": []
          },
          "execution_count": 6
        }
      ]
    },
    {
      "cell_type": "markdown",
      "metadata": {
        "id": "XrTUpxGQNj0M"
      },
      "source": [
        "***3.Instantiating the model***"
      ]
    },
    {
      "cell_type": "markdown",
      "metadata": {
        "id": "ODMlIEyBesTZ"
      },
      "source": [
        "\n",
        "\n",
        "* I am loading a pre-finetuned model.\n",
        "\n"
      ]
    },
    {
      "cell_type": "code",
      "metadata": {
        "id": "AgoeEtmaNiW7"
      },
      "source": [
        "# Here we initialize the model we want to use for our question answering task\n",
        "MODEL = \"distilbert-base-uncased-distilled-squad\"\n",
        "\n",
        "Tokenizer = DistilBertTokenizer.from_pretrained(MODEL)\n",
        "Model = DistilBertForQuestionAnswering.from_pretrained(MODEL, return_dict = True)\n"
      ],
      "execution_count": null,
      "outputs": []
    },
    {
      "cell_type": "markdown",
      "metadata": {
        "id": "HCXBwyDxl7_V"
      },
      "source": [
        "***4. Preparing inputs for our model***\n",
        "\n",
        "* The inputs and outputs are similar to the BERT models inputs and outputs.\n",
        "\n",
        "**Inputs/parameters**. Here are the [explanations](https://huggingface.co/transformers/glossary.html#attention-mask) of what these paramenters represent.\n",
        "\n",
        "*  input_ids - Ids of word embeddings\n",
        "*  attention_masks - Values to point inputs that should be attended to, i.e inputs that are not paddings.\n",
        "*  input_type_ids - Classification and separation tokens.\n",
        "*  segment_ids - Whether the segment is a question or an answer.\n",
        "\n",
        "**outputs**\n",
        "* Start_logits - probabilities that the start value is an input_id x. (torch.FloatTensor of shape (batch_size, sequence_length)) – Span-start scores (before SoftMax)\n",
        "* End_logits - Probabilities that the end value is an input_id x. (torch.FloatTensor of shape (batch_size, sequence_length)) – Span-start scores (before SoftMax)\n",
        "* Other return values are loss (cross enhropy loss). Hidden states and attention heads when specified.\n",
        "\n",
        "\n",
        "\n",
        "\n"
      ]
    },
    {
      "cell_type": "code",
      "metadata": {
        "id": "DOE5VtJr8nqG",
        "colab": {
          "base_uri": "https://localhost:8080/"
        },
        "outputId": "c1f6e51a-3ac0-4daa-a1d3-3131c77e2382"
      },
      "source": [
        "# The logic is simple, we loop through  a number of questions and comprehensions, tokenizing and encoding them\n",
        "# We pass the tokenization outputs through our model and we get the outputs.\n",
        "# Convert the outputs to indices and use the indices to retrive the tokens and words from the context.\n",
        "\n",
        "examples = df.iloc[0:5]\n",
        "\n",
        "for i in range(len(examples)):\n",
        "  context = examples.iloc[i]['context']\n",
        "  question = examples.iloc[i]['question']\n",
        "  \n",
        "  inputs = Tokenizer.encode_plus(question, context,\n",
        "                               add_special_tokens=True,\n",
        "                               return_tensors=\"pt\",\n",
        "                               padding = True)\n",
        "  input_ids = inputs[\"input_ids\"].tolist()[0]\n",
        "\n",
        "  text_tokens = Tokenizer.convert_ids_to_tokens(input_ids)\n",
        "  Outputs = Model(**inputs)\n",
        "\n",
        "  answer_start = torch.argmax(Outputs.start_logits)  # The most likely beginning of the answer\n",
        "  answer_end = torch.argmax(Outputs.end_logits)  # The most likely end of answer\n",
        "\n",
        "  answer = Tokenizer.convert_tokens_to_string(Tokenizer.convert_ids_to_tokens(input_ids[answer_start:(answer_end+1)]))\n",
        "\n",
        "  print(f\"Question: {question}\")\n",
        "  print(f\"Model_Answer: {answer},\\n'True_answer': {examples.iloc[i]['text']}\")\n",
        "\n",
        "\n",
        "\n"
      ],
      "execution_count": 15,
      "outputs": [
        {
          "output_type": "stream",
          "text": [
            "Question: When did Beyonce start becoming popular?\n",
            "Model_Answer: late 1990s,\n",
            "'True_answer': in the late 1990s\n",
            "Question: What areas did Beyonce compete in when she was growing up?\n",
            "Model_Answer: singing and dancing,\n",
            "'True_answer': singing and dancing\n",
            "Question: When did Beyonce leave Destiny's Child and become a solo singer?\n",
            "Model_Answer: 2003,\n",
            "'True_answer': 2003\n",
            "Question: In what city and state did Beyonce  grow up? \n",
            "Model_Answer: houston,\n",
            "'True_answer': Houston, Texas\n",
            "Question: In which decade did Beyonce become famous?\n",
            "Model_Answer: 1990s,\n",
            "'True_answer': late 1990s\n"
          ],
          "name": "stdout"
        }
      ]
    },
    {
      "cell_type": "markdown",
      "metadata": {
        "id": "thcznmE7U8pH"
      },
      "source": [
        "As you can see our model does great in answering the five questions above. Just as good as the BERT model discussed in BERT for Question answering."
      ]
    }
  ]
}